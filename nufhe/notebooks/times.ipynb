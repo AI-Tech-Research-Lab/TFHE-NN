{
 "cells": [
  {
   "cell_type": "code",
   "execution_count": 1,
   "id": "0ea3edb6-fd2d-4087-b0bf-202672d12804",
   "metadata": {},
   "outputs": [],
   "source": [
    "import random\n",
    "import nufhe"
   ]
  },
  {
   "cell_type": "code",
   "execution_count": 2,
   "id": "161ab9ec-35f3-46fb-8d17-a94f73fda3df",
   "metadata": {},
   "outputs": [],
   "source": [
    "ctx = nufhe.Context()\n",
    "secret_key, cloud_key = ctx.make_key_pair()\n",
    "\n",
    "param = nufhe.PerformanceParameters(nufhe.NuFHEParameters(transform_type='FFT'), \n",
    "                                    ntt_base_method='cuda_asm', ntt_mul_method='cuda_asm', \n",
    "                                    ntt_lsh_method='cuda_asm',\n",
    "                                    use_constant_memory_multi_iter=True,\n",
    "                                    use_constant_memory_single_iter=True,\n",
    "                                    transforms_per_block=8,\n",
    "                                    single_kernel_bootstrap=True)\n",
    "\n",
    "vm = ctx.make_virtual_machine(cloud_key, param)\n",
    "\n",
    "# vm = ctx.make_virtual_machine(cloud_key)\n",
    "size = 128"
   ]
  },
  {
   "cell_type": "code",
   "execution_count": 3,
   "id": "5167aeb0-0b8e-4b20-a2a3-7e8aba36f8b4",
   "metadata": {},
   "outputs": [],
   "source": [
    "N_EXPERIMENTS = 100"
   ]
  },
  {
   "cell_type": "code",
   "execution_count": 4,
   "id": "5e9b7549-b356-43f0-af08-09f3ee314fc9",
   "metadata": {},
   "outputs": [
    {
     "name": "stdout",
     "output_type": "stream",
     "text": [
      "CPU times: user 27.5 s, sys: 61.6 ms, total: 27.5 s\n",
      "Wall time: 27.7 s\n"
     ]
    }
   ],
   "source": [
    "%%time\n",
    "for _ in range(0, N_EXPERIMENTS):\n",
    "    bits1 = [random.choice([False, True]) for i in range(size)]\n",
    "    bits2 = [random.choice([False, True]) for i in range(size)]\n",
    "\n",
    "    ciphertext1 = ctx.encrypt(secret_key, bits1)\n",
    "    ciphertext2 = ctx.encrypt(secret_key, bits2)\n",
    "\n",
    "    reference = [not (b1 and b2) for b1, b2 in zip(bits1, bits2)]\n",
    "    result = vm.gate_nand(ciphertext1, ciphertext2)\n",
    "    result_bits = ctx.decrypt(secret_key, result)\n",
    "\n",
    "    assert all(result_bits == reference)"
   ]
  },
  {
   "cell_type": "code",
   "execution_count": null,
   "id": "d621679b-f7fc-4393-bf7e-242b27aaf12b",
   "metadata": {},
   "outputs": [],
   "source": []
  }
 ],
 "metadata": {
  "kernelspec": {
   "display_name": "AlexMV12-NuFHE",
   "language": "python",
   "name": "alexmv12-nufhe"
  },
  "language_info": {
   "codemirror_mode": {
    "name": "ipython",
    "version": 3
   },
   "file_extension": ".py",
   "mimetype": "text/x-python",
   "name": "python",
   "nbconvert_exporter": "python",
   "pygments_lexer": "ipython3",
   "version": "3.10.7"
  }
 },
 "nbformat": 4,
 "nbformat_minor": 5
}
