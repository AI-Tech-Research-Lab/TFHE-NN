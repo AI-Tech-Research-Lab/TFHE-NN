{
 "cells": [
  {
   "cell_type": "code",
   "execution_count": 1,
   "metadata": {
    "execution": {
     "iopub.execute_input": "2023-01-13T11:28:10.498372Z",
     "iopub.status.busy": "2023-01-13T11:28:10.497955Z",
     "iopub.status.idle": "2023-01-13T11:28:14.757137Z",
     "shell.execute_reply": "2023-01-13T11:28:14.755314Z"
    }
   },
   "outputs": [
    {
     "name": "stderr",
     "output_type": "stream",
     "text": [
      "2023-01-13 11:28:11.004490: I tensorflow/core/platform/cpu_feature_guard.cc:193] This TensorFlow binary is optimized with oneAPI Deep Neural Network Library (oneDNN) to use the following CPU instructions in performance-critical operations:  AVX2 AVX512F AVX512_VNNI FMA\n",
      "To enable them in other operations, rebuild TensorFlow with the appropriate compiler flags.\n",
      "2023-01-13 11:28:11.197874: I tensorflow/core/util/port.cc:104] oneDNN custom operations are on. You may see slightly different numerical results due to floating-point round-off errors from different computation orders. To turn them off, set the environment variable `TF_ENABLE_ONEDNN_OPTS=0`.\n",
      "2023-01-13 11:28:12.259547: W tensorflow/compiler/xla/stream_executor/platform/default/dso_loader.cc:64] Could not load dynamic library 'libnvinfer.so.7'; dlerror: libnvinfer.so.7: cannot open shared object file: No such file or directory\n",
      "2023-01-13 11:28:12.259638: W tensorflow/compiler/xla/stream_executor/platform/default/dso_loader.cc:64] Could not load dynamic library 'libnvinfer_plugin.so.7'; dlerror: libnvinfer_plugin.so.7: cannot open shared object file: No such file or directory\n",
      "2023-01-13 11:28:12.259647: W tensorflow/compiler/tf2tensorrt/utils/py_utils.cc:38] TF-TRT Warning: Cannot dlopen some TensorRT libraries. If you would like to use Nvidia GPU with TensorRT, please make sure the missing libraries mentioned above are installed properly.\n"
     ]
    }
   ],
   "source": [
    "from __future__ import print_function\n",
    "\n",
    "import os, sys\n",
    "module_path = os.path.abspath(os.path.join('../../..'))\n",
    "sys.path.append(module_path)\n",
    "\n",
    "import numpy as np\n",
    "import math\n",
    "import copy\n",
    "import pandas as pd\n",
    "from keras.utils import np_utils\n",
    "from keras.datasets import mnist\n",
    "import time\n",
    "import pickle\n",
    "\n",
    "from pycrcnn.he.HE import TFHEnuFHE\n",
    "from pycrcnn.he.tfhe_value import TFHEValue\n",
    "from pycrcnn.he.alu import *"
   ]
  },
  {
   "attachments": {},
   "cell_type": "markdown",
   "metadata": {},
   "source": [
    "## Dataset"
   ]
  },
  {
   "cell_type": "code",
   "execution_count": 2,
   "metadata": {
    "execution": {
     "iopub.execute_input": "2023-01-13T11:28:14.763605Z",
     "iopub.status.busy": "2023-01-13T11:28:14.761981Z",
     "iopub.status.idle": "2023-01-13T11:28:15.341747Z",
     "shell.execute_reply": "2023-01-13T11:28:15.340044Z"
    }
   },
   "outputs": [],
   "source": [
    "# Prepare TernaryMNIST Dataset\n",
    "(x_train, y_train), (x_test, y_test) = mnist.load_data()\n",
    "\n",
    "# Train set\n",
    "x_train = x_train[:, 6:22, 6:22]\n",
    "\n",
    "# Create Ternary classification dataset\n",
    "train_indexes, test_indexes = [], []\n",
    "for i in range(len(x_train)):\n",
    "    if y_train[i] == 0 or y_train[i] == 1 or y_train[i] == 2:\n",
    "        train_indexes.append(i)\n",
    "for i in range(len(x_test)):\n",
    "    if y_test[i] == 0 or y_test[i] == 1 or y_test[i] == 2:\n",
    "        test_indexes.append(i)\n",
    "x_train = np.subtract(x_train[train_indexes], 128)\n",
    "x_train.dtype = np.int8\n",
    "y_train = y_train[train_indexes]\n",
    "\n",
    "val_images = 5000\n",
    "idx_train = len(x_train) - val_images\n",
    "x_train, x_val = x_train[:idx_train], x_train[idx_train:]\n",
    "y_train, y_val = y_train[:idx_train], y_train[idx_train:]\n",
    "y_train = np_utils.to_categorical(y_train).astype(int)*16\n",
    "\n",
    "# Test set\n",
    "x_test = x_test[:, 6:22, 6:22]\n",
    "x_test = np.subtract(x_test[test_indexes], 128)\n",
    "x_test.dtype = np.int8\n",
    "y_test = y_test[test_indexes]"
   ]
  },
  {
   "attachments": {},
   "cell_type": "markdown",
   "metadata": {},
   "source": [
    "## HE Init"
   ]
  },
  {
   "cell_type": "code",
   "execution_count": 3,
   "metadata": {
    "execution": {
     "iopub.execute_input": "2023-01-13T11:28:15.347190Z",
     "iopub.status.busy": "2023-01-13T11:28:15.346222Z",
     "iopub.status.idle": "2023-01-13T11:28:15.632725Z",
     "shell.execute_reply": "2023-01-13T11:28:15.632040Z"
    },
    "executionInfo": {
     "elapsed": 3124,
     "status": "ok",
     "timestamp": 1651862255412,
     "user": {
      "displayName": "Luca Colombo",
      "userId": "05787806710317186015"
     },
     "user_tz": -120
    },
    "id": "gJbSks0DFdDs"
   },
   "outputs": [],
   "source": [
    "HE_client = TFHEnuFHE(22)\n",
    "\n",
    "with open(\"../secret_key\", \"rb\") as f:\n",
    "    HE_client.secret_key = HE_client.ctx.load_secret_key(f)\n",
    "    \n",
    "with open(\"../cloud_key\", \"rb\") as f:\n",
    "    HE_client.cloud_key = HE_client.ctx.load_cloud_key(f)\n",
    "\n",
    "cloud_key = HE_client.cloud_key\n",
    "HE_client.generate_vm(cloud_key)"
   ]
  },
  {
   "cell_type": "code",
   "execution_count": 4,
   "metadata": {
    "execution": {
     "iopub.execute_input": "2023-01-13T11:28:15.636762Z",
     "iopub.status.busy": "2023-01-13T11:28:15.636543Z",
     "iopub.status.idle": "2023-01-13T11:28:44.564736Z",
     "shell.execute_reply": "2023-01-13T11:28:44.564014Z"
    },
    "executionInfo": {
     "elapsed": 28535,
     "status": "ok",
     "timestamp": 1651862283941,
     "user": {
      "displayName": "Luca Colombo",
      "userId": "05787806710317186015"
     },
     "user_tz": -120
    },
    "id": "tsfVVfwUFeyB"
   },
   "outputs": [],
   "source": [
    "num1 = HE_client.encrypt(1)\n",
    "num2 = HE_client.encode(6)\n",
    "sum = num1+num2\n",
    "mul = num1*num2"
   ]
  },
  {
   "attachments": {},
   "cell_type": "markdown",
   "metadata": {},
   "source": [
    "## EncNet Architecture"
   ]
  },
  {
   "cell_type": "code",
   "execution_count": 5,
   "metadata": {
    "execution": {
     "iopub.execute_input": "2023-01-13T11:28:44.568825Z",
     "iopub.status.busy": "2023-01-13T11:28:44.568609Z",
     "iopub.status.idle": "2023-01-13T11:28:44.572559Z",
     "shell.execute_reply": "2023-01-13T11:28:44.572072Z"
    }
   },
   "outputs": [],
   "source": [
    "SHRT_MAX = 32767\n",
    "SHRT_MIN = (-SHRT_MAX - 1 )\n",
    "\n",
    "# Int square root\n",
    "def isqrt(n):\n",
    "    x = n\n",
    "    y = (x + 1) // 2\n",
    "    while y < x:\n",
    "        x = y\n",
    "        y = (x + n // x) // 2\n",
    "    return x"
   ]
  },
  {
   "cell_type": "code",
   "execution_count": 6,
   "metadata": {
    "execution": {
     "iopub.execute_input": "2023-01-13T11:28:44.576058Z",
     "iopub.status.busy": "2023-01-13T11:28:44.575747Z",
     "iopub.status.idle": "2023-01-13T11:28:44.587677Z",
     "shell.execute_reply": "2023-01-13T11:28:44.587161Z"
    }
   },
   "outputs": [],
   "source": [
    "# Encrypted PLA tanh Activation function\n",
    "def encrypted_tanh(act_in, in_dim, out_dim):\n",
    "    y_max, y_min = HE_client.encode(128), HE_client.encode(-127)\n",
    "    intervals = HE_client.encode_matrix([128, 75, 32, -31, -74, -127])\n",
    "    slopes_inv = HE_client.encode_matrix([128, 8, 2, 1, 2, 8, 128])\n",
    "    act_out, act_grad_inv = np.full((act_in.shape[0], out_dim), y_max), np.full((act_in.shape[0], out_dim), slopes_inv[0])\n",
    "\n",
    "    for i in range(len(act_in)):\n",
    "      for j in range(len(act_in[i].squeeze())):\n",
    "        val = act_in[i].squeeze()[j] / ((1 << 8) * in_dim)\n",
    "\n",
    "        lt0 = val < intervals[0]\n",
    "        act_out[i][j] = TFHEValue(HE_client.vm.gate_mux(lt0, (val / 4).value, act_out[i][j].value), val.vm, val.n_bits)\n",
    "        act_grad_inv[i][j] = TFHEValue(HE_client.vm.gate_mux(lt0, slopes_inv[1].value, act_grad_inv[i][j].value), val.vm, val.n_bits)\n",
    "\n",
    "        lt1 = val < intervals[1]\n",
    "        act_out[i][j] = TFHEValue(HE_client.vm.gate_mux(lt1, val.value, act_out[i][j].value), val.vm, val.n_bits)\n",
    "        act_grad_inv[i][j] = TFHEValue(HE_client.vm.gate_mux(lt1, slopes_inv[2].value, act_grad_inv[i][j].value), val.vm, val.n_bits)\n",
    "\n",
    "        lt2 = val < intervals[2]\n",
    "        act_out[i][j] = TFHEValue(HE_client.vm.gate_mux(lt2, (val * 2).value, act_out[i][j].value), val.vm, val.n_bits)\n",
    "        act_grad_inv[i][j] = TFHEValue(HE_client.vm.gate_mux(lt2, slopes_inv[3].value, act_grad_inv[i][j].value), val.vm, val.n_bits)\n",
    "\n",
    "        lt3 = val < intervals[3]\n",
    "        act_out[i][j] = TFHEValue(HE_client.vm.gate_mux(lt3, val.value, act_out[i][j].value), val.vm, val.n_bits)\n",
    "        act_grad_inv[i][j] = TFHEValue(HE_client.vm.gate_mux(lt3, slopes_inv[4].value, act_grad_inv[i][j].value), val.vm, val.n_bits)\n",
    "\n",
    "        lt4 = val < intervals[4]\n",
    "        act_out[i][j] = TFHEValue(HE_client.vm.gate_mux(lt4, (val / 4).value, act_out[i][j].value), val.vm, val.n_bits)\n",
    "        act_grad_inv[i][j] = TFHEValue(HE_client.vm.gate_mux(lt4, slopes_inv[5].value, act_grad_inv[i][j].value), val.vm, val.n_bits)\n",
    "\n",
    "        lt5 = val < intervals[5]\n",
    "        act_out[i][j] = TFHEValue(HE_client.vm.gate_mux(lt5, y_min.value, act_out[i][j].value), val.vm, val.n_bits)\n",
    "        act_grad_inv[i][j] = TFHEValue(HE_client.vm.gate_mux(lt5, slopes_inv[6].value, act_grad_inv[i][j].value), val.vm, val.n_bits)\n",
    "        \n",
    "    return act_out, act_grad_inv"
   ]
  },
  {
   "cell_type": "code",
   "execution_count": 7,
   "metadata": {
    "execution": {
     "iopub.execute_input": "2023-01-13T11:28:44.590829Z",
     "iopub.status.busy": "2023-01-13T11:28:44.590538Z",
     "iopub.status.idle": "2023-01-13T11:28:44.594518Z",
     "shell.execute_reply": "2023-01-13T11:28:44.594013Z"
    }
   },
   "outputs": [],
   "source": [
    "# Encrypted L2 Loss Function\n",
    "def encrypted_L2(y_true, net_out):\n",
    "    loss = np.full((y_true.shape[0], y_true.shape[1]), HE_client.encode(0))\n",
    "    for i in range(len(y_true)):\n",
    "        for j in range(len(y_true[i])):\n",
    "            loss[i][j] = net_out[i].squeeze()[j] - y_true[i][j]\n",
    "    return loss"
   ]
  },
  {
   "cell_type": "code",
   "execution_count": 8,
   "metadata": {
    "execution": {
     "iopub.execute_input": "2023-01-13T11:28:44.597529Z",
     "iopub.status.busy": "2023-01-13T11:28:44.597242Z",
     "iopub.status.idle": "2023-01-13T11:28:44.603471Z",
     "shell.execute_reply": "2023-01-13T11:28:44.602956Z"
    }
   },
   "outputs": [],
   "source": [
    "# Encrypted MaxPool Layer\n",
    "class EncryptedMaxPoolLayer:\n",
    "    def __init__(self, kernel_size, stride=(1, 1)):\n",
    "        self.kernel_size = kernel_size\n",
    "        self.stride = stride\n",
    "\n",
    "    def forward(self, batch):\n",
    "        return np.array([_max(image, self.kernel_size, self.stride) for image in batch])\n",
    "\n",
    "    def backward(self, loss, lr_inv):\n",
    "        return loss\n",
    "\n",
    "def _max(image, kernel_size, stride):\n",
    "    x_s = stride[1]\n",
    "    y_s = stride[0]\n",
    "\n",
    "    x_k = kernel_size[1]\n",
    "    y_k = kernel_size[0]\n",
    "\n",
    "    # print(image)\n",
    "    x_d = len(image[0])\n",
    "    y_d = len(image)\n",
    "\n",
    "    x_o = ((x_d - x_k) // x_s) + 1\n",
    "    y_o = ((y_d - y_k) // y_s) + 1\n",
    "\n",
    "    def get_submatrix(matrix, x, y):\n",
    "        index_row = y * y_s\n",
    "        index_column = x * x_s\n",
    "        return matrix[index_row: index_row + y_k, index_column: index_column + x_k]\n",
    "\n",
    "    return [[encrypted_max(get_submatrix(image, x, y).flatten()) for x in range(0, x_o)] for y in range(0, y_o)]"
   ]
  },
  {
   "cell_type": "code",
   "execution_count": 9,
   "metadata": {
    "execution": {
     "iopub.execute_input": "2023-01-13T11:28:44.606427Z",
     "iopub.status.busy": "2023-01-13T11:28:44.606139Z",
     "iopub.status.idle": "2023-01-13T11:28:44.609763Z",
     "shell.execute_reply": "2023-01-13T11:28:44.609274Z"
    }
   },
   "outputs": [],
   "source": [
    "# Encrypted Flatten Layer\n",
    "class EncryptedFlattenLayer:\n",
    "    def __init__(self):\n",
    "        pass\n",
    "\n",
    "    def forward(self, flatten_in):\n",
    "        return flatten_in.reshape(flatten_in.shape[0], flatten_in.shape[1]*flatten_in.shape[2])\n",
    "\n",
    "    def backward(self, loss, lr_inv):\n",
    "        return loss"
   ]
  },
  {
   "cell_type": "code",
   "execution_count": 10,
   "metadata": {
    "execution": {
     "iopub.execute_input": "2023-01-13T11:28:44.612729Z",
     "iopub.status.busy": "2023-01-13T11:28:44.612463Z",
     "iopub.status.idle": "2023-01-13T11:28:44.620268Z",
     "shell.execute_reply": "2023-01-13T11:28:44.619775Z"
    }
   },
   "outputs": [],
   "source": [
    "# Encrypted FC Layer\n",
    "class EncryptedFCLayer:\n",
    "    def __init__(self, in_dim, out_dim, last_layer = False):\n",
    "        self.in_dim, self.out_dim = in_dim, out_dim\n",
    "        self.last_layer = last_layer\n",
    "        self.weights = np.zeros((in_dim, out_dim)).astype(int)\n",
    "        self.bias = np.zeros((1, out_dim)).astype(int)\n",
    "        self.DFA_weights = np.zeros((1, 1)).astype(int)\n",
    "\n",
    "    def forward(self, fc_in):\n",
    "        self.input = fc_in\n",
    "        dot = (self.input @ self.weights) + self.bias\n",
    "        output, self.act_grad_inv = encrypted_tanh(dot, self.in_dim, self.out_dim)\n",
    "        return output\n",
    "\n",
    "    def backward(self, loss, lr_inv):\n",
    "        d_DFA = self.compute_dDFA(loss, lr_inv)\n",
    "\n",
    "        weights_update = self.input.T @ d_DFA\n",
    "        weights_update = weights_update / lr_inv\n",
    "        weights_update = weights_update.reshape(self.in_dim, self.out_dim)\n",
    "\n",
    "        if type(self.weights.squeeze()[0][0]) is not TFHEValue:\n",
    "            self.weights = HE_client.encode_matrix(self.weights)\n",
    "\n",
    "        self.weights -= weights_update\n",
    "\n",
    "        ones = np.ones((len(d_DFA), 1)).astype(int)\n",
    "        bias_update = d_DFA.T @ ones\n",
    "        bias_update = bias_update.T / lr_inv\n",
    "\n",
    "        if type(self.bias.squeeze()[0]) is not TFHEValue:\n",
    "            self.bias = HE_client.encode_matrix(self.bias)\n",
    "\n",
    "        self.bias -= bias_update\n",
    "\n",
    "    def compute_dDFA(self, loss, lr_inv):\n",
    "        if self.last_layer:\n",
    "            d_DFA = np.divide(loss, self.act_grad_inv)\n",
    "        else:\n",
    "            if self.DFA_weights.shape[0] != loss.shape[1] and self.DFA_weights.shape[1] != self.weights.shape[1]: # 0 rows, 1 cols\n",
    "                print(\"DFA not initialized!\")\n",
    "            dot = loss @ self.DFA_weights\n",
    "            d_DFA = np.divide(dot, self.act_grad_inv)\n",
    "        return d_DFA"
   ]
  },
  {
   "cell_type": "code",
   "execution_count": 11,
   "metadata": {
    "execution": {
     "iopub.execute_input": "2023-01-13T11:28:44.623827Z",
     "iopub.status.busy": "2023-01-13T11:28:44.623554Z",
     "iopub.status.idle": "2023-01-13T11:28:44.635449Z",
     "shell.execute_reply": "2023-01-13T11:28:44.634920Z"
    }
   },
   "outputs": [],
   "source": [
    "# Encrypted Network\n",
    "class EncryptedNetwork:\n",
    "    def __init__(self):\n",
    "        self.layers = []\n",
    "    \n",
    "    # Add layer to network\n",
    "    def add(self, layer):\n",
    "        self.layers.append(layer)\n",
    "    \n",
    "    # Serialize the network\n",
    "    def serialize(self):\n",
    "        for l in self.layers:\n",
    "            if hasattr(l, \"weights\"):\n",
    "                l.weights = HE_client.serialize_matrix(l.weights)\n",
    "                l.bias = HE_client.serialize_matrix(l.bias)\n",
    "                l.act_grad_inv = None\n",
    "                l.input = None\n",
    "                if not l.last_layer:\n",
    "                    l.DFA_weights = HE_client.serialize_matrix(l.DFA_weights)\n",
    "    \n",
    "    # Deserialize the network\n",
    "    def deserialize(self):\n",
    "        for l in self.layers:\n",
    "            if hasattr(l, \"weights\"):\n",
    "                l.weights = HE_client.deserialize_matrix(l.weights)\n",
    "                l.bias = HE_client.deserialize_matrix(l.bias)\n",
    "                if not l.last_layer:\n",
    "                    l.DFA_weights = HE_client.deserialize_matrix(l.DFA_weights)\n",
    "    \n",
    "    # Test\n",
    "    def test(self, x_test, y_test):\n",
    "        corr = HE_client.encode(0)\n",
    "        enc_x = HE_client.encrypt_matrix(x_test)\n",
    "        enc_y = HE_client.encrypt_matrix(y_test)\n",
    "\n",
    "        for j in range(len(x_test)):\n",
    "            pred = self.predict(enc_x[j])\n",
    "            corr = TFHEValue(HE_client.vm.gate_mux(pred == enc_y[j][0], (corr + 1).value, corr.value), corr.vm, corr.n_bits)\n",
    "        return corr\n",
    "    \n",
    "    # Predict output\n",
    "    def predict(self, input_data):\n",
    "        output = np.expand_dims(input_data, axis=0)\n",
    "        for layer in self.layers:\n",
    "            output = layer.forward(output)\n",
    "        return encrypted_argmax(output.squeeze())\n",
    "\n",
    "    # Train the network\n",
    "    def fit(self, x_train, y_train, epochs, batch_size, lr_inv):\n",
    "        for i in range(epochs):\n",
    "            for j in range(int(len(x_train)/batch_size)):\n",
    "                idx_start = j * batch_size\n",
    "                idx_end = idx_start + batch_size\n",
    "\n",
    "                batch_in = HE_client.encrypt_matrix(x_train[idx_start:idx_end])\n",
    "                batch_target = HE_client.encrypt_matrix(y_train[idx_start:idx_end])\n",
    "\n",
    "                start_time = time.time()\n",
    "\n",
    "                # Forward propagation\n",
    "                for layer in self.layers:\n",
    "                  batch_in = layer.forward(batch_in)\n",
    "                fwd_out = batch_in\n",
    "\n",
    "                end_time = time.time()\n",
    "\n",
    "                print(\"End forward batch: \" + repr(j))\n",
    "                print(\"Computation time: \")\n",
    "                hours, rem = divmod(end_time-start_time, 3600)\n",
    "                minutes, seconds = divmod(rem, 60)\n",
    "                print(\"{:0>2}:{:0>2}:{:05.2f}\".format(int(hours),int(minutes),seconds))\n",
    "                print(\"\")\n",
    "\n",
    "                # Loss\n",
    "                loss = encrypted_L2(batch_target, fwd_out)\n",
    "               \n",
    "                start_time = time.time()\n",
    "\n",
    "                # Backward propagation\n",
    "                for layer in reversed(self.layers):\n",
    "                    layer.backward(loss, lr_inv)\n",
    "\n",
    "                end_time = time.time()\n",
    "\n",
    "                print(\"End backward batch: \" + repr(j))\n",
    "                print(\"Computation time: \")\n",
    "                hours, rem = divmod(end_time-start_time, 3600)\n",
    "                minutes, seconds = divmod(rem, 60)\n",
    "                print(\"{:0>2}:{:0>2}:{:05.2f}\".format(int(hours),int(minutes),seconds))\n",
    "                print(\"\")\n",
    "\n",
    "            print(\"End epoch: \" + repr(i))\n",
    "            print(\"\")"
   ]
  },
  {
   "attachments": {},
   "cell_type": "markdown",
   "metadata": {},
   "source": [
    "## Experiments"
   ]
  },
  {
   "cell_type": "code",
   "execution_count": 12,
   "metadata": {
    "execution": {
     "iopub.execute_input": "2023-01-13T11:28:44.638656Z",
     "iopub.status.busy": "2023-01-13T11:28:44.638388Z",
     "iopub.status.idle": "2023-01-13T11:28:44.643099Z",
     "shell.execute_reply": "2023-01-13T11:28:44.642217Z"
    }
   },
   "outputs": [],
   "source": [
    "## UPLOAD DFA WEIGHTS\n",
    "DFA_weights1 = np.load(\"DFAWeights_L1.npy\")\n",
    "DFA_weights2 = np.load(\"DFAWeights_L2.npy\")"
   ]
  },
  {
   "cell_type": "code",
   "execution_count": 13,
   "metadata": {
    "execution": {
     "iopub.execute_input": "2023-01-13T11:28:44.646953Z",
     "iopub.status.busy": "2023-01-13T11:28:44.646168Z",
     "iopub.status.idle": "2023-01-13T11:28:44.651598Z",
     "shell.execute_reply": "2023-01-13T11:28:44.650654Z"
    }
   },
   "outputs": [],
   "source": [
    "with open(\"plain_weights_f2.pkl\", \"rb\") as f:\n",
    "    weights2 = pickle.load(f)\n",
    "    bias2 = pickle.load(f)\n",
    "    weights3 = pickle.load(f)\n",
    "    bias3 = pickle.load(f)\n",
    "    weights4 = pickle.load(f)\n",
    "    bias4 = pickle.load(f)"
   ]
  },
  {
   "cell_type": "code",
   "execution_count": 14,
   "metadata": {
    "execution": {
     "iopub.execute_input": "2023-01-13T11:28:44.654837Z",
     "iopub.status.busy": "2023-01-13T11:28:44.654492Z",
     "iopub.status.idle": "2023-01-13T11:28:44.739060Z",
     "shell.execute_reply": "2023-01-13T11:28:44.738031Z"
    }
   },
   "outputs": [],
   "source": [
    "# Network Architecture\n",
    "net = EncryptedNetwork()\n",
    "net.add(EncryptedMaxPoolLayer((4, 4), stride=(4, 4)))\n",
    "net.add(EncryptedFlattenLayer())\n",
    "net.add(EncryptedFCLayer(16, 4))\n",
    "net.add(EncryptedFCLayer(4, 2))\n",
    "net.add(EncryptedFCLayer(2, 3, last_layer=True))\n",
    "\n",
    "net.layers[2].DFA_weights = HE_client.encode_matrix(DFA_weights1)\n",
    "net.layers[3].DFA_weights = HE_client.encode_matrix(DFA_weights2)\n",
    "\n",
    "net.layers[2].weights = HE_client.encrypt_matrix(weights2)\n",
    "net.layers[2].bias = HE_client.encrypt_matrix(bias2)\n",
    "net.layers[3].weights = HE_client.encrypt_matrix(weights3)\n",
    "net.layers[3].bias = HE_client.encrypt_matrix(bias3)\n",
    "net.layers[4].weights = HE_client.encrypt_matrix(weights4)\n",
    "net.layers[4].bias = HE_client.encrypt_matrix(bias4)"
   ]
  },
  {
   "cell_type": "code",
   "execution_count": 15,
   "metadata": {
    "execution": {
     "iopub.execute_input": "2023-01-13T11:28:44.790547Z",
     "iopub.status.busy": "2023-01-13T11:28:44.789995Z",
     "iopub.status.idle": "2023-01-16T12:38:39.216795Z",
     "shell.execute_reply": "2023-01-16T12:38:39.214890Z"
    }
   },
   "outputs": [
    {
     "name": "stdout",
     "output_type": "stream",
     "text": [
      "End forward batch: 0\n",
      "Computation time: \n",
      "04:02:01.65\n",
      "\n",
      "End backward batch: 0\n",
      "Computation time: \n",
      "04:48:07.66\n",
      "\n",
      "End forward batch: 1\n",
      "Computation time: \n",
      "04:04:04.27\n",
      "\n",
      "End backward batch: 1\n",
      "Computation time: \n",
      "03:45:35.63\n",
      "\n",
      "End forward batch: 2\n",
      "Computation time: \n",
      "03:18:27.98\n",
      "\n",
      "End backward batch: 2\n",
      "Computation time: \n",
      "03:39:51.70\n",
      "\n",
      "End forward batch: 3\n",
      "Computation time: \n",
      "03:21:44.67\n",
      "\n",
      "End backward batch: 3\n",
      "Computation time: \n",
      "03:45:27.17\n",
      "\n",
      "End forward batch: 4\n",
      "Computation time: \n",
      "03:21:42.23\n",
      "\n",
      "End backward batch: 4\n",
      "Computation time: \n",
      "03:44:48.14\n",
      "\n",
      "End forward batch: 5\n",
      "Computation time: \n",
      "03:22:07.30\n",
      "\n",
      "End backward batch: 5\n",
      "Computation time: \n",
      "03:39:51.91\n",
      "\n",
      "End forward batch: 6\n",
      "Computation time: \n",
      "03:19:17.32\n",
      "\n",
      "End backward batch: 6\n",
      "Computation time: \n",
      "03:44:05.36\n",
      "\n",
      "End forward batch: 7\n",
      "Computation time: \n",
      "03:22:43.34\n",
      "\n",
      "End backward batch: 7\n",
      "Computation time: \n",
      "03:44:05.56\n",
      "\n",
      "End forward batch: 8\n",
      "Computation time: \n",
      "03:20:57.47\n",
      "\n",
      "End backward batch: 8\n",
      "Computation time: \n",
      "03:40:54.58\n",
      "\n",
      "End forward batch: 9\n",
      "Computation time: \n",
      "03:18:09.06\n",
      "\n",
      "End backward batch: 9\n",
      "Computation time: \n",
      "03:39:50.89\n",
      "\n",
      "End epoch: 0\n",
      "\n",
      "CPU times: user 3d 1h 10min 36s, sys: 1min 43s, total: 3d 1h 12min 20s\n",
      "Wall time: 3d 1h 9min 54s\n"
     ]
    }
   ],
   "source": [
    "%%time\n",
    "# Training\n",
    "net.fit(x_train[100:150], y_train[100:150], epochs=1, batch_size=5, lr_inv=256)"
   ]
  },
  {
   "cell_type": "code",
   "execution_count": 16,
   "metadata": {
    "execution": {
     "iopub.execute_input": "2023-01-16T12:38:39.222779Z",
     "iopub.status.busy": "2023-01-16T12:38:39.222613Z",
     "iopub.status.idle": "2023-01-16T12:38:39.252895Z",
     "shell.execute_reply": "2023-01-16T12:38:39.251049Z"
    }
   },
   "outputs": [],
   "source": [
    "weights2 = HE_client.decrypt_matrix(net.layers[2].weights)\n",
    "bias2 = HE_client.decrypt_matrix(net.layers[2].bias)\n",
    "weights3 = HE_client.decrypt_matrix(net.layers[3].weights)\n",
    "bias3 = HE_client.decrypt_matrix(net.layers[3].bias)\n",
    "weights4 = HE_client.decrypt_matrix(net.layers[4].weights)\n",
    "bias4 = HE_client.decrypt_matrix(net.layers[4].bias)"
   ]
  },
  {
   "cell_type": "code",
   "execution_count": 17,
   "metadata": {
    "execution": {
     "iopub.execute_input": "2023-01-16T12:38:39.258725Z",
     "iopub.status.busy": "2023-01-16T12:38:39.258545Z",
     "iopub.status.idle": "2023-01-16T12:38:39.264827Z",
     "shell.execute_reply": "2023-01-16T12:38:39.263339Z"
    }
   },
   "outputs": [],
   "source": [
    "with open(\"plain_weights_f2_cont.pkl\", \"wb\") as f:\n",
    "    pickle.dump(weights2, f)\n",
    "    pickle.dump(bias2, f)\n",
    "    pickle.dump(weights3, f)\n",
    "    pickle.dump(bias3, f)\n",
    "    pickle.dump(weights4, f)\n",
    "    pickle.dump(bias4, f)"
   ]
  },
  {
   "cell_type": "code",
   "execution_count": 18,
   "metadata": {
    "execution": {
     "iopub.execute_input": "2023-01-16T12:38:39.271106Z",
     "iopub.status.busy": "2023-01-16T12:38:39.270871Z",
     "iopub.status.idle": "2023-01-16T12:38:39.315458Z",
     "shell.execute_reply": "2023-01-16T12:38:39.313608Z"
    }
   },
   "outputs": [],
   "source": [
    "net.serialize()\n",
    "\n",
    "with open(\"encnetMNISTf2_cont.pkl\", \"wb\") as f:\n",
    "    pickle.dump(net, f)"
   ]
  }
 ],
 "metadata": {
  "accelerator": "GPU",
  "colab": {
   "authorship_tag": "ABX9TyNDVK1GUNs7ICExTzMIGeYt",
   "collapsed_sections": [],
   "name": "PyCrCNN_PocketNN_Training.ipynb",
   "provenance": []
  },
  "kernelspec": {
   "display_name": "Python 3.10.6 64-bit",
   "language": "python",
   "name": "python3"
  },
  "language_info": {
   "codemirror_mode": {
    "name": "ipython",
    "version": 3
   },
   "file_extension": ".py",
   "mimetype": "text/x-python",
   "name": "python",
   "nbconvert_exporter": "python",
   "pygments_lexer": "ipython3",
   "version": "3.8.10"
  },
  "vscode": {
   "interpreter": {
    "hash": "e7370f93d1d0cde622a1f8e1c04877d8463912d04d973331ad4851f04de6915a"
   }
  }
 },
 "nbformat": 4,
 "nbformat_minor": 4
}
