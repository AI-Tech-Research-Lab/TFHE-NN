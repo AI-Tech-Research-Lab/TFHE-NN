{
 "cells": [
  {
   "cell_type": "code",
   "execution_count": 122,
   "metadata": {},
   "outputs": [],
   "source": [
    "from __future__ import print_function\n",
    "import os, sys\n",
    "module_path = os.path.abspath(os.path.join('../..'))\n",
    "sys.path.append(module_path)\n",
    "\n",
    "import numpy as np\n",
    "import math\n",
    "import copy\n",
    "import pandas as pd\n",
    "from keras.utils import np_utils\n",
    "from keras.datasets import mnist\n",
    "import scipy.stats as ss\n",
    "import time\n",
    "import pickle\n",
    "import matplotlib.pylab as plt\n",
    "import matplotlib.patches as mpatches\n",
    "from joblib import Parallel, delayed"
   ]
  },
  {
   "cell_type": "code",
   "execution_count": 123,
   "metadata": {},
   "outputs": [],
   "source": [
    "def quantize_tensor(x, num_bits, min_val=None, max_val=None):\n",
    "  \n",
    "  if not min_val and not max_val: \n",
    "      min_val, max_val = x.min(), x.max()\n",
    "\n",
    "  qmin = -2.**(num_bits-1)\n",
    "  qmax = 2.**(num_bits-1) - 1.\n",
    "\n",
    "  x = x - min_val          # Allineo tutto l'array in modo che parta da 0\n",
    "  x /= (max_val - min_val) # Lo scalo tra 0 e 1    \n",
    "  x *= (qmax - qmin)       # Lo scalo tra 0 e 16\n",
    "  x -= qmax                # Lo sfaso tra -8 e 7\n",
    "  \n",
    "  q_x = x.astype(float).round().astype(int)\n",
    "  \n",
    "  return q_x"
   ]
  },
  {
   "cell_type": "code",
   "execution_count": 124,
   "metadata": {},
   "outputs": [],
   "source": [
    "# Prepare Penguins dataset\n",
    "penguins = pd.read_csv('../penguins_size.csv')\n",
    "penguins = penguins.sample(frac=1, random_state=2)\n",
    "penguins = penguins.dropna()\n",
    "\n",
    "x_train, y_train = penguins.loc[:, [\"island\", \"culmen_length_mm\", \"flipper_length_mm\", \"body_mass_g\"]].values, penguins.iloc[:, :1].values\n",
    "for i in range(len(y_train)):\n",
    "  if y_train[i][0] == \"Adelie\":\n",
    "    y_train[i][0] = 0\n",
    "  elif y_train[i][0] == \"Gentoo\":\n",
    "    y_train[i][0] = 1\n",
    "  else:\n",
    "    y_train[i][0] = 2\n",
    "\n",
    "island, sex = {}, {}\n",
    "countI, countS = 0, 0\n",
    "\n",
    "for i in range(len(x_train)):\n",
    "  # Island\n",
    "  if x_train[i][0] in island:\n",
    "    x_train[i][0] = island[x_train[i][0]]\n",
    "  else:\n",
    "    island[x_train[i][0]] = countI\n",
    "    x_train[i][0] = countI\n",
    "    countI += 1\n",
    "\n",
    "x_train[:, 1] = quantize_tensor(x_train[:, 1], 4)\n",
    "x_train[:, 2] = quantize_tensor(x_train[:, 2], 4)\n",
    "x_train[:, 3] = quantize_tensor(x_train[:, 3], 4)\n",
    "\n",
    "train, val = 150, 64\n",
    "x_val, y_val = x_train[train:train+val], y_train[train:train+val]\n",
    "x_test, y_test = x_train[train+val:], y_train[train+val:]\n",
    "y_train = np_utils.to_categorical(y_train).astype(int)*8\n",
    "x_train, y_train = x_train[:train], y_train[:train]"
   ]
  },
  {
   "cell_type": "markdown",
   "metadata": {},
   "source": [
    "## Net Architecture"
   ]
  },
  {
   "cell_type": "code",
   "execution_count": 125,
   "metadata": {},
   "outputs": [],
   "source": [
    "SHRT_MAX = 32767\n",
    "SHRT_MIN = (-SHRT_MAX - 1 )\n",
    "\n",
    "def isqrt(n):\n",
    "    x = n\n",
    "    y = (x + 1) // 2\n",
    "    while y < x:\n",
    "        x = y\n",
    "        y = (x + n // x) // 2\n",
    "    return x"
   ]
  },
  {
   "cell_type": "code",
   "execution_count": 126,
   "metadata": {},
   "outputs": [],
   "source": [
    "# DFA WEIGHTS\n",
    "def randomDfaWeightUniform(mInDim, mOutDim):\n",
    "  range = isqrt((12 * SHRT_MAX) / (mInDim + mOutDim))\n",
    "  return np.random.randint(-range, range, (mInDim, mOutDim))"
   ]
  },
  {
   "cell_type": "code",
   "execution_count": 127,
   "metadata": {},
   "outputs": [],
   "source": [
    "# DFA WEIGHTS\n",
    "def randomDfaWeightNormal(mInDim, mOutDim):\n",
    "  range = isqrt((12 * SHRT_MAX) / (mInDim + mOutDim))\n",
    "  x = np.arange(-range, range)\n",
    "  xU, xL = x + 0.5, x - 0.5\n",
    "  prob = ss.norm.cdf(xU, scale = range//10) - ss.norm.cdf(xL, scale = range//10)\n",
    "  prob = prob / prob.sum() # normalize the probabilities so their sum is 1\n",
    "  nums = np.random.choice(x, size = (mInDim, mOutDim), p = prob)\n",
    "  return nums.astype(int)"
   ]
  },
  {
   "cell_type": "code",
   "execution_count": 128,
   "metadata": {},
   "outputs": [],
   "source": [
    "def pocketTanh(matIn, bits, inDims, outDims):\n",
    "    yMax = 128\n",
    "    yMin = -127\n",
    "    joints = [128, 75, 32, -31, -74, -127]\n",
    "    divisor = (1 << bits) * inDims\n",
    "    slopesInv = [yMax, 8, 2, 1, 2, 8, yMax]\n",
    "\n",
    "    matOut = np.full((matIn.shape[0], outDims), yMax)\n",
    "    matActvGradInv = np.full((matIn.shape[0], outDims), slopesInv[0])\n",
    "\n",
    "    for i in range(len(matIn)):\n",
    "      for j in range(len(matIn[i].squeeze())):\n",
    "        x = matIn[i].squeeze()[j] // divisor\n",
    "        if x < joints[0]:\n",
    "          matOut[i][j] = x // 4 + 88\n",
    "          matActvGradInv[i][j] = slopesInv[1]\n",
    "        if x < joints[1]:\n",
    "          matOut[i][j] = x + 32\n",
    "          matActvGradInv[i][j] = slopesInv[2]\n",
    "        if x < joints[2]:\n",
    "          matOut[i][j] = x * 2\n",
    "          matActvGradInv[i][j] = slopesInv[3]\n",
    "        if x < joints[3]:\n",
    "          matOut[i][j] = x - 32\n",
    "          matActvGradInv[i][j] = slopesInv[4]\n",
    "        if x < joints[4]:\n",
    "          matOut[i][j] = x // 4 - 88\n",
    "          matActvGradInv[i][j] = slopesInv[5]\n",
    "        if x < joints[5]:\n",
    "          matOut[i][j] = yMin\n",
    "          matActvGradInv[i][j] = slopesInv[6]\n",
    "    return matOut.astype(int), matActvGradInv"
   ]
  },
  {
   "cell_type": "code",
   "execution_count": 129,
   "metadata": {},
   "outputs": [],
   "source": [
    "def scalarL2Loss(y, yHat):\n",
    "    return (yHat - y) * (yHat - y) // 2\n",
    "\n",
    "def scalarL2LossDelta(y, yHat):\n",
    "    return (yHat - y)\n",
    "\n",
    "def batchL2Loss(yMat, yHatMat):\n",
    "    # IMPORTANT: One sumLoss value per one sample\n",
    "    accumLoss = 0\n",
    "    # Each row corresponds to one input\n",
    "    for i in range(len(yMat)):\n",
    "      columnLoss = 0\n",
    "      for j in range(len(yMat[i])):\n",
    "        columnLoss += scalarL2Loss(yMat[i][j], yHatMat[i][j])\n",
    "      accumLoss += columnLoss\n",
    "    return accumLoss\n",
    "\n",
    "def batchL2LossDelta(yMat, yHatMat):\n",
    "    # Assumption: 1 input -> 1 scalar sumLoss value\n",
    "    # for 1 output of dimention T, lossDeltaMat = (1, T)\n",
    "    lossDeltaMat = np.zeros((yMat.shape[0], yMat.shape[1]))\n",
    "    accumLossDelta = 0\n",
    "    # Per each input item\n",
    "    for i in range(len(yMat)):\n",
    "      columnLossDelta = 0\n",
    "      for j in range(len(yMat[i])):\n",
    "        scalarLossDelta = scalarL2LossDelta(yMat[i][j], yHatMat[i].squeeze()[j])\n",
    "        lossDeltaMat[i][j] = scalarLossDelta\n",
    "        columnLossDelta += scalarLossDelta\n",
    "      accumLossDelta += columnLossDelta\n",
    "\n",
    "    # return sum! (average is meaningless)\n",
    "    return lossDeltaMat.astype(int), accumLossDelta"
   ]
  },
  {
   "cell_type": "code",
   "execution_count": 130,
   "metadata": {},
   "outputs": [],
   "source": [
    "class FCLayer:\n",
    "    # input_size = number of input neurons\n",
    "    # output_size = number of output neurons\n",
    "    def __init__(self, input_size, output_size, outLayer = False, debug=False):\n",
    "      self.input_size = input_size\n",
    "      self.output_size = output_size\n",
    "      self.outLayer = outLayer\n",
    "      self.debug = debug\n",
    "      self.weights = np.zeros((input_size, output_size)).astype(int)\n",
    "      self.bias = np.zeros((1, output_size)).astype(int)\n",
    "      self.mDfaWeight = np.zeros((1, 1)).astype(int)\n",
    "\n",
    "    # returns output for a given input\n",
    "    def forward(self, input_data):\n",
    "        self.input = input_data\n",
    "        dot = self.input @ self.weights\n",
    "        dot += self.bias\n",
    "        output, self.matActvGradInv = pocketTanh(dot, 8, self.input_size, self.output_size)\n",
    "        return output\n",
    "\n",
    "    def backward(self, lastLayerDeltasMat, lrInv):   \n",
    "      mDeltas = self.computeDeltas(lastLayerDeltasMat, lrInv)\n",
    "      batchSize = len(mDeltas) # 1 for one item    \n",
    "      mWeightUpdate = self.input.T @ mDeltas\n",
    "      mWeightUpdate = (mWeightUpdate // lrInv).astype(int)\n",
    "      self.weights -= mWeightUpdate\n",
    "\n",
    "      ones = np.ones((batchSize, 1)).astype(int)\n",
    "      mBiasUpdate = mDeltas.T @ ones\n",
    "      mBiasUpdate = (mBiasUpdate.T // lrInv).astype(int)\n",
    "      self.bias -= mBiasUpdate\n",
    "\n",
    "      return lastLayerDeltasMat\n",
    "\n",
    "    def computeDeltas(self, lastLayerDeltasMat, lrInv):\n",
    "      if self.outLayer:\n",
    "        mDeltas = np.floor_divide(lastLayerDeltasMat, self.matActvGradInv)\n",
    "      else:\n",
    "        dot = lastLayerDeltasMat @ self.mDfaWeight\n",
    "        mDeltas = np.floor_divide(dot, self.matActvGradInv)\n",
    "      return mDeltas"
   ]
  },
  {
   "cell_type": "code",
   "execution_count": 131,
   "metadata": {},
   "outputs": [],
   "source": [
    "class MaxPoolLayer:\n",
    "  \n",
    "  def __init__(self, kernel_size, stride=(1, 1)):\n",
    "    self.kernel_size = kernel_size\n",
    "    self.stride = stride\n",
    "\n",
    "  def forward(self, batch, check_overflow=False, bits_tfhe = 0, clip_overflow=False):\n",
    "    return np.array([_max(image, self.kernel_size, self.stride) for image in batch])\n",
    "\n",
    "  def backward(self, lastLayerDeltasMat, lrInv, check_overflow=False, bits_tfhe = 0, clip_overflow=False):\n",
    "      return lastLayerDeltasMat\n",
    "\n",
    "def _max(image, kernel_size, stride):\n",
    "    x_s = stride[1]\n",
    "    y_s = stride[0]\n",
    "\n",
    "    x_k = kernel_size[1]\n",
    "    y_k = kernel_size[0]\n",
    "\n",
    "    # print(image)\n",
    "    x_d = len(image[0])\n",
    "    y_d = len(image)\n",
    "\n",
    "    x_o = ((x_d - x_k) // x_s) + 1\n",
    "    y_o = ((y_d - y_k) // y_s) + 1\n",
    "\n",
    "    def get_submatrix(matrix, x, y):\n",
    "        index_row = y * y_s\n",
    "        index_column = x * x_s\n",
    "        return matrix[index_row: index_row + y_k, index_column: index_column + x_k]\n",
    "\n",
    "    return [[np.max(get_submatrix(image, x, y).flatten()) for x in range(0, x_o)] for y in range(0, y_o)]"
   ]
  },
  {
   "cell_type": "code",
   "execution_count": 132,
   "metadata": {},
   "outputs": [],
   "source": [
    "class FlattenLayer:\n",
    "\n",
    "    def __init__(self):\n",
    "        pass\n",
    "\n",
    "    def forward(self, image):\n",
    "        return image.reshape(image.shape[0], image.shape[1]*image.shape[2])\n",
    "\n",
    "    def backward(self, lastLayerDeltasMat, lrInv):\n",
    "      return lastLayerDeltasMat"
   ]
  },
  {
   "cell_type": "code",
   "execution_count": 133,
   "metadata": {},
   "outputs": [],
   "source": [
    "class Network:\n",
    "    def __init__(self):\n",
    "        self.layers = []\n",
    "        self.loss = None\n",
    "        self.loss_prime = None\n",
    "\n",
    "    # add layer to network\n",
    "    def add(self, layer):\n",
    "        self.layers.append(layer)\n",
    "\n",
    "    # test\n",
    "    def test(self, x_test, y_test):\n",
    "      # sample dimension first\n",
    "      samples = len(x_test)\n",
    "      corr = 0\n",
    "      for j in range(samples):\n",
    "          # forward propagation\n",
    "          pred = self.predict(x_test[j])\n",
    "\n",
    "          if pred == y_test[j]:\n",
    "            corr += 1\n",
    "      return corr / samples * 100\n",
    "\n",
    "    # predict output for given input\n",
    "    def predict(self, input_data):\n",
    "        output = np.expand_dims(input_data, axis=0)\n",
    "        for layer in self.layers:\n",
    "            output = layer.forward(output)\n",
    "\n",
    "        return output.argmax()\n",
    "\n",
    "    # train the network\n",
    "    def fit(self, x_train, y_train, epochs, miniBatchSize, lrInv):\n",
    "        # sample dimension first\n",
    "        samples = len(x_train)\n",
    "        train_accs, val_accs = [], []\n",
    "\n",
    "        # training loop\n",
    "        for i in range(epochs):\n",
    "            sumLoss = 0\n",
    "            sumLossDelta = 0\n",
    "            epochNumCorrect = 0\n",
    "            numIter = int(samples/miniBatchSize)\n",
    "\n",
    "            for j in range(numIter):\n",
    "                batchNumCorrect = 0\n",
    "                idxStart = j * miniBatchSize\n",
    "                idxEnd = idxStart + miniBatchSize\n",
    "\n",
    "                miniBatchImages = x_train[idxStart:idxEnd]\n",
    "                miniBarchTargets = y_train[idxStart:idxEnd]\n",
    "\n",
    "                # forward propagation\n",
    "                output = miniBatchImages\n",
    "                \n",
    "                for layer in self.layers:\n",
    "                  output = layer.forward(output)\n",
    "\n",
    "                sumLoss += batchL2Loss(miniBarchTargets, output)\n",
    "                lossDeltaMat, sumLossDelta = batchL2LossDelta(miniBarchTargets, output)\n",
    "\n",
    "                for r in range(miniBatchSize):\n",
    "                    if miniBarchTargets[r].argmax() == output[r].argmax():\n",
    "                        batchNumCorrect += 1\n",
    "                \n",
    "                for layer in reversed(self.layers):\n",
    "                    layer.backward(lossDeltaMat, lrInv)\n",
    "                \n",
    "                epochNumCorrect += batchNumCorrect;\n",
    "\n",
    "            acc = epochNumCorrect/samples * 100\n",
    "            # print(\"Epoch: \" + repr(i))\n",
    "            # print(\"Train Accuracy: \" + repr(acc) + \" %\")\n",
    "            train_accs.append(acc)\n",
    "            val_accs.append(self.test(x_val, y_val))\n",
    "        return train_accs, val_accs"
   ]
  },
  {
   "cell_type": "markdown",
   "metadata": {},
   "source": [
    "## Experiments"
   ]
  },
  {
   "attachments": {},
   "cell_type": "markdown",
   "metadata": {},
   "source": [
    "### Training"
   ]
  },
  {
   "cell_type": "code",
   "execution_count": 134,
   "metadata": {},
   "outputs": [],
   "source": [
    "# Params\n",
    "samples = 1000\n",
    "epochs = 150\n",
    "lrs = [128, 256, 512, 1024, 2048, 4096]\n",
    "bs = 25"
   ]
  },
  {
   "cell_type": "code",
   "execution_count": 135,
   "metadata": {},
   "outputs": [],
   "source": [
    "with open(\"accsBS25.pkl\", \"rb\") as f:\n",
    "    DFAWeights = pickle.load(f)\n",
    "    old = pickle.load(f)"
   ]
  },
  {
   "cell_type": "code",
   "execution_count": 136,
   "metadata": {},
   "outputs": [],
   "source": [
    "DFAWeightsUniform = DFAWeights['Uniform']\n",
    "DFAWeightsNormal = DFAWeights['Normal']"
   ]
  },
  {
   "cell_type": "code",
   "execution_count": 137,
   "metadata": {},
   "outputs": [],
   "source": [
    "def train(DFAWeights, j, lr):\n",
    "  # Net structure\n",
    "  net = Network()\n",
    "  net.add(FCLayer(4, 2))\n",
    "  net.add(FCLayer(2, 3, outLayer=True))\n",
    "\n",
    "  net.layers[0].mDfaWeight = DFAWeights[j]\n",
    "  # Train\n",
    "  _, val_acc = net.fit(x_train, y_train, epochs=epochs, miniBatchSize=bs, lrInv=lr)\n",
    "  \n",
    "  return {str(lr)+'-'+str(j): [val_acc, [net.layers[0].weights, net.layers[0].bias, net.layers[1].weights, net.layers[1].bias]]}"
   ]
  },
  {
   "cell_type": "code",
   "execution_count": 138,
   "metadata": {},
   "outputs": [
    {
     "name": "stdout",
     "output_type": "stream",
     "text": [
      "Total time: 1923.3325254917145 s\n"
     ]
    }
   ],
   "source": [
    "start_time = time.time()\n",
    "resU = Parallel(n_jobs=-1)(delayed(train)(DFAWeightsUniform, j, lr) for lr in lrs for j in range(samples))\n",
    "end_time = time.time()\n",
    "print(\"Total time: \" + str(end_time-start_time) + \" s\")"
   ]
  },
  {
   "cell_type": "code",
   "execution_count": 139,
   "metadata": {},
   "outputs": [],
   "source": [
    "accsLR_U = {}\n",
    "for k in range(len(lrs)):\n",
    "    accsMean = []\n",
    "    accsMax = []\n",
    "    W = []\n",
    "    for j in range(samples):\n",
    "        max = np.max(resU[samples*k+j][str(lrs[k])+'-'+str(j)][0])\n",
    "        mean = np.mean(resU[samples*k+j][str(lrs[k])+'-'+str(j)][0][100:])\n",
    "        weights = resU[samples*k+j][str(lrs[k])+'-'+str(j)][1]\n",
    "        accsMean.append(mean/100)\n",
    "        accsMax.append(max/100)\n",
    "        W.append(weights)\n",
    "    accsLR_U[lrs[k]] = [[accsMean, accsMax], W]"
   ]
  },
  {
   "cell_type": "code",
   "execution_count": 140,
   "metadata": {},
   "outputs": [
    {
     "name": "stdout",
     "output_type": "stream",
     "text": [
      "Total time: 1945.954912185669 s\n"
     ]
    }
   ],
   "source": [
    "start_time = time.time()\n",
    "resN = Parallel(n_jobs=-1)(delayed(train)(DFAWeightsNormal, j, lr) for lr in lrs for j in range(samples))\n",
    "end_time = time.time()\n",
    "print(\"Total time: \" + str(end_time-start_time) + \" s\")"
   ]
  },
  {
   "cell_type": "code",
   "execution_count": 141,
   "metadata": {},
   "outputs": [],
   "source": [
    "accsLR_N = {}\n",
    "for k in range(len(lrs)):\n",
    "    accsMean = []\n",
    "    accsMax = []\n",
    "    W = []\n",
    "    for j in range(samples):\n",
    "        max = np.max(resN[samples*k+j][str(lrs[k])+'-'+str(j)][0])\n",
    "        mean = np.mean(resN[samples*k+j][str(lrs[k])+'-'+str(j)][0][100:])\n",
    "        weights = resN[samples*k+j][str(lrs[k])+'-'+str(j)][1]\n",
    "        accsMean.append(mean/100)\n",
    "        accsMax.append(max/100)\n",
    "        W.append(weights)\n",
    "    accsLR_N[lrs[k]] = [[accsMean, accsMax], W]"
   ]
  },
  {
   "cell_type": "code",
   "execution_count": 142,
   "metadata": {},
   "outputs": [],
   "source": [
    "accsLR = {'Uniform': accsLR_U, 'Normal': accsLR_N}\n",
    "DFAWeights = {'Uniform': DFAWeightsUniform, 'Normal': DFAWeightsNormal}"
   ]
  },
  {
   "cell_type": "code",
   "execution_count": 143,
   "metadata": {},
   "outputs": [],
   "source": [
    "with open(\"accsBS25.pkl\", \"wb\") as f:\n",
    "    pickle.dump(DFAWeights, f)\n",
    "    pickle.dump(accsLR, f)"
   ]
  }
 ],
 "metadata": {
  "accelerator": "GPU",
  "colab": {
   "authorship_tag": "ABX9TyNDVK1GUNs7ICExTzMIGeYt",
   "collapsed_sections": [],
   "name": "PyCrCNN_PocketNN_Training.ipynb",
   "provenance": []
  },
  "kernelspec": {
   "display_name": "Python 3.10.6 64-bit",
   "language": "python",
   "name": "python3"
  },
  "language_info": {
   "codemirror_mode": {
    "name": "ipython",
    "version": 3
   },
   "file_extension": ".py",
   "mimetype": "text/x-python",
   "name": "python",
   "nbconvert_exporter": "python",
   "pygments_lexer": "ipython3",
   "version": "3.10.6"
  },
  "vscode": {
   "interpreter": {
    "hash": "e7370f93d1d0cde622a1f8e1c04877d8463912d04d973331ad4851f04de6915a"
   }
  }
 },
 "nbformat": 4,
 "nbformat_minor": 4
}
