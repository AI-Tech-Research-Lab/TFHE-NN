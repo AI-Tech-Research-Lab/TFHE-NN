{
 "cells": [
  {
   "cell_type": "code",
   "execution_count": 1,
   "metadata": {
    "execution": {
     "iopub.execute_input": "2022-10-15T10:48:56.752222Z",
     "iopub.status.busy": "2022-10-15T10:48:56.751804Z",
     "iopub.status.idle": "2022-10-15T10:50:22.637792Z",
     "shell.execute_reply": "2022-10-15T10:50:22.637188Z"
    }
   },
   "outputs": [
    {
     "name": "stderr",
     "output_type": "stream",
     "text": [
      "2022-10-15 10:49:01.777280: I tensorflow/core/platform/cpu_feature_guard.cc:193] This TensorFlow binary is optimized with oneAPI Deep Neural Network Library (oneDNN) to use the following CPU instructions in performance-critical operations:  AVX2 AVX512F AVX512_VNNI FMA\n",
      "To enable them in other operations, rebuild TensorFlow with the appropriate compiler flags.\n",
      "2022-10-15 10:49:13.501458: I tensorflow/core/util/util.cc:169] oneDNN custom operations are on. You may see slightly different numerical results due to floating-point round-off errors from different computation orders. To turn them off, set the environment variable `TF_ENABLE_ONEDNN_OPTS=0`.\n",
      "2022-10-15 10:49:22.014013: E tensorflow/stream_executor/cuda/cuda_blas.cc:2981] Unable to register cuBLAS factory: Attempting to register factory for plugin cuBLAS when one has already been registered\n",
      "2022-10-15 10:49:42.899790: W tensorflow/stream_executor/platform/default/dso_loader.cc:64] Could not load dynamic library 'libnvinfer.so.7'; dlerror: libnvinfer.so.7: cannot open shared object file: No such file or directory\n",
      "2022-10-15 10:49:42.899859: W tensorflow/stream_executor/platform/default/dso_loader.cc:64] Could not load dynamic library 'libnvinfer_plugin.so.7'; dlerror: libnvinfer_plugin.so.7: cannot open shared object file: No such file or directory\n",
      "2022-10-15 10:49:42.899867: W tensorflow/compiler/tf2tensorrt/utils/py_utils.cc:38] TF-TRT Warning: Cannot dlopen some TensorRT libraries. If you would like to use Nvidia GPU with TensorRT, please make sure the missing libraries mentioned above are installed properly.\n"
     ]
    }
   ],
   "source": [
    "import os, sys\n",
    "module_path = os.path.abspath(os.path.join('../..'))\n",
    "sys.path.append(module_path)\n",
    "\n",
    "from __future__ import print_function\n",
    "import numpy as np\n",
    "from keras.datasets import mnist\n",
    "from keras.utils import np_utils\n",
    "import pandas as pd\n",
    "import time\n",
    "import pickle\n",
    "\n",
    "from pycrcnn.he.HE import TFHEnuFHE\n",
    "from pycrcnn.he.tfhe_value import TFHEValue\n",
    "from pycrcnn.he.alu import *"
   ]
  },
  {
   "cell_type": "code",
   "execution_count": 2,
   "metadata": {
    "execution": {
     "iopub.execute_input": "2022-10-15T10:50:22.641112Z",
     "iopub.status.busy": "2022-10-15T10:50:22.640706Z",
     "iopub.status.idle": "2022-10-15T10:50:22.647472Z",
     "shell.execute_reply": "2022-10-15T10:50:22.646920Z"
    }
   },
   "outputs": [],
   "source": [
    "def calcScaleZeroPoint(min_val, max_val,num_bits):\n",
    "  # Calc Scale and zero point\n",
    "  qmin = -2.**(num_bits-1)\n",
    "  qmax = 2.**(num_bits-1) - 1.\n",
    "\n",
    "  scale = (max_val - min_val) / (qmax - qmin)\n",
    "\n",
    "  initial_zero_point = qmin - min_val / scale\n",
    "  \n",
    "  zero_point = 0\n",
    "  if initial_zero_point < qmin:\n",
    "      zero_point = qmin\n",
    "  elif initial_zero_point > qmax:\n",
    "      zero_point = qmax\n",
    "  else:\n",
    "      zero_point = initial_zero_point\n",
    "\n",
    "  zero_point = int(zero_point)\n",
    "\n",
    "  return scale, zero_point\n",
    "\n",
    "def quantize_tensor(x, num_bits, min_val=None, max_val=None):\n",
    "    \n",
    "    if not min_val and not max_val: \n",
    "      min_val, max_val = x.min(), x.max()\n",
    "\n",
    "    qmin = -2.**(num_bits-1)\n",
    "    qmax = 2.**(num_bits-1) - 1.\n",
    "\n",
    "    scale, zero_point = calcScaleZeroPoint(min_val, max_val, num_bits)\n",
    "    q_x = zero_point + x / scale\n",
    "    q_x = q_x.clip(qmin, qmax)\n",
    "    q_x = q_x.astype(float).round().astype(int)\n",
    "    \n",
    "    return q_x\n",
    "  \n",
    "def quantize_tensor2(x, num_bits, min_val=None, max_val=None):\n",
    "    \n",
    "    if not min_val and not max_val: \n",
    "        min_val, max_val = x.min(), x.max()\n",
    "\n",
    "    qmin = -2.**(num_bits-1)\n",
    "    qmax = 2.**(num_bits-1) - 1.\n",
    "\n",
    "    \n",
    "    x = x - min_val          # Allineo tutto l'array in modo che parta da 0\n",
    "    x /= (max_val - min_val) # Lo scalo tra 0 e 1    \n",
    "    x *= (qmax - qmin)       # Lo scalo tra 0 e 16\n",
    "    x -= qmax                # Lo sfaso tra -8 e 7\n",
    "    \n",
    "    q_x = x.astype(float).round().astype(int)\n",
    "    \n",
    "    return q_x"
   ]
  },
  {
   "cell_type": "code",
   "execution_count": 3,
   "metadata": {
    "execution": {
     "iopub.execute_input": "2022-10-15T10:50:22.650032Z",
     "iopub.status.busy": "2022-10-15T10:50:22.649790Z",
     "iopub.status.idle": "2022-10-15T10:50:22.945830Z",
     "shell.execute_reply": "2022-10-15T10:50:22.945255Z"
    }
   },
   "outputs": [],
   "source": [
    "# Prepare Penguins dataset\n",
    "penguins = pd.read_csv('penguins_size.csv')\n",
    "penguins = penguins.sample(frac=1, random_state=2)\n",
    "penguins = penguins.dropna()\n",
    "\n",
    "x_train, y_train = penguins.loc[:, [\"island\", \"culmen_length_mm\", \"flipper_length_mm\", \"body_mass_g\"]].values, penguins.iloc[:, :1].values\n",
    "for i in range(len(y_train)):\n",
    "  if y_train[i][0] == \"Adelie\":\n",
    "    y_train[i][0] = 0\n",
    "  elif y_train[i][0] == \"Gentoo\":\n",
    "    y_train[i][0] = 1\n",
    "  else:\n",
    "    y_train[i][0] = 2\n",
    "\n",
    "island, sex = {}, {}\n",
    "countI, countS = 0, 0\n",
    "\n",
    "for i in range(len(x_train)):\n",
    "  # Island\n",
    "  if x_train[i][0] in island:\n",
    "    x_train[i][0] = island[x_train[i][0]]\n",
    "  else:\n",
    "    island[x_train[i][0]] = countI\n",
    "    x_train[i][0] = countI\n",
    "    countI += 1\n",
    "\n",
    "x_train[:, 1] = quantize_tensor2(x_train[:, 1], 4)\n",
    "x_train[:, 2] = quantize_tensor2(x_train[:, 2], 4)\n",
    "x_train[:, 3] = quantize_tensor2(x_train[:, 3], 4)\n",
    "\n",
    "train, val = 150, 64\n",
    "x_val, y_val = x_train[train:train+val], y_train[train:train+val]\n",
    "x_test, y_test = x_train[train+val:], y_train[train+val:]\n",
    "y_train = np_utils.to_categorical(y_train).astype(int)*8\n",
    "x_train, y_train = x_train[:train], y_train[:train]"
   ]
  },
  {
   "cell_type": "code",
   "execution_count": 4,
   "metadata": {
    "execution": {
     "iopub.execute_input": "2022-10-15T10:50:22.948865Z",
     "iopub.status.busy": "2022-10-15T10:50:22.948636Z",
     "iopub.status.idle": "2022-10-15T10:50:44.645212Z",
     "shell.execute_reply": "2022-10-15T10:50:44.644532Z"
    },
    "executionInfo": {
     "elapsed": 3124,
     "status": "ok",
     "timestamp": 1651862255412,
     "user": {
      "displayName": "Luca Colombo",
      "userId": "05787806710317186015"
     },
     "user_tz": -120
    },
    "id": "gJbSks0DFdDs"
   },
   "outputs": [],
   "source": [
    "HE_Client = TFHEnuFHE(16)\n",
    "\n",
    "with open(\"secret_key\", \"rb\") as f:\n",
    "    HE_Client.secret_key = HE_Client.ctx.load_secret_key(f)\n",
    "    \n",
    "with open(\"cloud_key\", \"rb\") as f:\n",
    "    HE_Client.cloud_key = HE_Client.ctx.load_cloud_key(f)\n",
    "\n",
    "cloud_key = HE_Client.cloud_key\n",
    "HE_Client.generate_vm(cloud_key)"
   ]
  },
  {
   "cell_type": "code",
   "execution_count": 5,
   "metadata": {
    "execution": {
     "iopub.execute_input": "2022-10-15T10:50:44.648429Z",
     "iopub.status.busy": "2022-10-15T10:50:44.648139Z",
     "iopub.status.idle": "2022-10-15T10:51:09.567650Z",
     "shell.execute_reply": "2022-10-15T10:51:09.566965Z"
    },
    "executionInfo": {
     "elapsed": 28535,
     "status": "ok",
     "timestamp": 1651862283941,
     "user": {
      "displayName": "Luca Colombo",
      "userId": "05787806710317186015"
     },
     "user_tz": -120
    },
    "id": "tsfVVfwUFeyB"
   },
   "outputs": [],
   "source": [
    "num1 = HE_Client.encrypt(1)\n",
    "num2 = HE_Client.encode(6)\n",
    "sum = num1+num2\n",
    "mul = num1*num2"
   ]
  },
  {
   "cell_type": "code",
   "execution_count": 6,
   "metadata": {
    "execution": {
     "iopub.execute_input": "2022-10-15T10:51:09.571233Z",
     "iopub.status.busy": "2022-10-15T10:51:09.570666Z",
     "iopub.status.idle": "2022-10-15T10:51:09.574587Z",
     "shell.execute_reply": "2022-10-15T10:51:09.573969Z"
    }
   },
   "outputs": [],
   "source": [
    "SHRT_MAX = 32767\n",
    "SHRT_MIN = (-SHRT_MAX - 1 )\n",
    "\n",
    "def isqrt(n):\n",
    "    x = n\n",
    "    y = (x + 1) // 2\n",
    "    while y < x:\n",
    "        x = y\n",
    "        y = (x + n // x) // 2\n",
    "    return x"
   ]
  },
  {
   "cell_type": "code",
   "execution_count": 7,
   "metadata": {
    "execution": {
     "iopub.execute_input": "2022-10-15T10:51:09.577741Z",
     "iopub.status.busy": "2022-10-15T10:51:09.577272Z",
     "iopub.status.idle": "2022-10-15T10:51:09.587854Z",
     "shell.execute_reply": "2022-10-15T10:51:09.587344Z"
    },
    "executionInfo": {
     "elapsed": 34,
     "status": "ok",
     "timestamp": 1651862283942,
     "user": {
      "displayName": "Luca Colombo",
      "userId": "05787806710317186015"
     },
     "user_tz": -120
    },
    "id": "WqdJOk4QMRVC"
   },
   "outputs": [],
   "source": [
    "def encrypted_pocketTanh(matIn, bits, inDims, outDims):\n",
    "    yMax = HE_Client.encode(128)\n",
    "    yMin = HE_Client.encode(-127)\n",
    "    joints = HE_Client.encode_matrix([128, 75, 32, -31, -74, -127])\n",
    "    divisor = (1 << bits) * inDims\n",
    "    slopesInv = HE_Client.encode_matrix([128, 8, 2, 1, 2, 8, 128])\n",
    "\n",
    "    matOut = np.full((matIn.shape[0], outDims), yMax)\n",
    "    matActvGradInv = np.full((matIn.shape[0], outDims), slopesInv[0])\n",
    "\n",
    "    for i in range(len(matIn)):\n",
    "      for j in range(len(matIn[i].squeeze())):\n",
    "        x = matIn[i].squeeze()[j] / divisor\n",
    "\n",
    "        lt0 = x < joints[0]\n",
    "        matOut[i][j] = TFHEValue(HE_Client.vm.gate_mux(lt0, (x / 4).value, matOut[i][j].value), x.vm, x.n_bits)\n",
    "        matActvGradInv[i][j] = TFHEValue(HE_Client.vm.gate_mux(lt0, slopesInv[1].value, matActvGradInv[i][j].value), x.vm, x.n_bits)\n",
    "\n",
    "        lt1 = x < joints[1]\n",
    "        matOut[i][j] = TFHEValue(HE_Client.vm.gate_mux(lt1, x.value, matOut[i][j].value), x.vm, x.n_bits)\n",
    "        matActvGradInv[i][j] = TFHEValue(HE_Client.vm.gate_mux(lt1, slopesInv[2].value, matActvGradInv[i][j].value), x.vm, x.n_bits)\n",
    "\n",
    "        lt2 = x < joints[2]\n",
    "        matOut[i][j] = TFHEValue(HE_Client.vm.gate_mux(lt2, (x * 2).value, matOut[i][j].value), x.vm, x.n_bits)\n",
    "        matActvGradInv[i][j] = TFHEValue(HE_Client.vm.gate_mux(lt2, slopesInv[3].value, matActvGradInv[i][j].value), x.vm, x.n_bits)\n",
    "\n",
    "        lt3 = x < joints[3]\n",
    "        matOut[i][j] = TFHEValue(HE_Client.vm.gate_mux(lt3, x.value, matOut[i][j].value), x.vm, x.n_bits)\n",
    "        matActvGradInv[i][j] = TFHEValue(HE_Client.vm.gate_mux(lt3, slopesInv[4].value, matActvGradInv[i][j].value), x.vm, x.n_bits)\n",
    "\n",
    "        lt4 = x < joints[4]\n",
    "        matOut[i][j] = TFHEValue(HE_Client.vm.gate_mux(lt4, (x / 4).value, matOut[i][j].value), x.vm, x.n_bits)\n",
    "        matActvGradInv[i][j] = TFHEValue(HE_Client.vm.gate_mux(lt4, slopesInv[5].value, matActvGradInv[i][j].value), x.vm, x.n_bits)\n",
    "\n",
    "        lt5 = x < joints[5]\n",
    "        matOut[i][j] = TFHEValue(HE_Client.vm.gate_mux(lt5, yMin.value, matOut[i][j].value), x.vm, x.n_bits)\n",
    "        matActvGradInv[i][j] = TFHEValue(HE_Client.vm.gate_mux(lt5, slopesInv[6].value, matActvGradInv[i][j].value), x.vm, x.n_bits)\n",
    "\n",
    "    return matOut, matActvGradInv"
   ]
  },
  {
   "cell_type": "code",
   "execution_count": 8,
   "metadata": {
    "execution": {
     "iopub.execute_input": "2022-10-15T10:51:09.590428Z",
     "iopub.status.busy": "2022-10-15T10:51:09.590180Z",
     "iopub.status.idle": "2022-10-15T10:51:09.594318Z",
     "shell.execute_reply": "2022-10-15T10:51:09.593750Z"
    },
    "executionInfo": {
     "elapsed": 33,
     "status": "ok",
     "timestamp": 1651862283945,
     "user": {
      "displayName": "Luca Colombo",
      "userId": "05787806710317186015"
     },
     "user_tz": -120
    },
    "id": "M1nEvDcEMRSh"
   },
   "outputs": [],
   "source": [
    "def scalarL2LossDelta(y, yHat):\n",
    "    return (yHat - y)\n",
    "\n",
    "def batchL2LossDelta(yMat, yHatMat):\n",
    "    # Assumption: 1 input -> 1 scalar sumLoss value\n",
    "    # for 1 output of dimention T, lossDeltaMat = (1, T)\n",
    "    lossDeltaMat = np.full((yMat.shape[0], yMat.shape[1]), HE_Client.encode(0))\n",
    "    # Per each input item\n",
    "    for i in range(len(yMat)):\n",
    "      for j in range(len(yMat[i])):\n",
    "        scalarLossDelta = scalarL2LossDelta(yMat[i][j], yHatMat[i].squeeze()[j])\n",
    "        lossDeltaMat[i][j] = scalarLossDelta\n",
    "\n",
    "    # return sum! (average is meaningless)\n",
    "    return lossDeltaMat"
   ]
  },
  {
   "cell_type": "code",
   "execution_count": 9,
   "metadata": {
    "execution": {
     "iopub.execute_input": "2022-10-15T10:51:09.597149Z",
     "iopub.status.busy": "2022-10-15T10:51:09.596655Z",
     "iopub.status.idle": "2022-10-15T10:51:09.604867Z",
     "shell.execute_reply": "2022-10-15T10:51:09.604313Z"
    },
    "executionInfo": {
     "elapsed": 434,
     "status": "ok",
     "timestamp": 1651865979417,
     "user": {
      "displayName": "Luca Colombo",
      "userId": "05787806710317186015"
     },
     "user_tz": -120
    },
    "id": "iB6iFZM7MdFV"
   },
   "outputs": [],
   "source": [
    "# inherit from base class Layer\n",
    "class EncryptedFCLayer:\n",
    "    # input_size = number of input neurons\n",
    "    # output_size = number of output neurons\n",
    "    def __init__(self, input_size, output_size, outLayer = False):\n",
    "      self.input_size = input_size\n",
    "      self.output_size = output_size\n",
    "      self.outLayer = outLayer\n",
    "      self.weights = np.zeros((input_size, output_size)).astype(int)\n",
    "      self.bias = HE_Client.encode_matrix(np.zeros((1, output_size)).astype(int))\n",
    "      self.mDfaWeight = np.zeros((1, 1)).astype(int)\n",
    "\n",
    "    # returns output for a given input\n",
    "    def forward(self, input_data):\n",
    "        self.input = input_data        \n",
    "        dot = np.matmul(self.input, self.weights) + self.bias\n",
    "        output, self.matActvGradInv = encrypted_pocketTanh(dot, 8, self.input_size, self.output_size)\n",
    "        return output\n",
    "\n",
    "    def backward(self, lastLayerDeltasMat, lrInv):      \n",
    "      mDeltas = self.computeDeltas(lastLayerDeltasMat, lrInv)\n",
    "      batchSize = len(mDeltas) # 1 for one item\n",
    "\n",
    "      mWeightUpdate = np.matmul(self.input.T, mDeltas)\n",
    "      mWeightUpdate = mWeightUpdate / lrInv\n",
    "      mWeightUpdate = mWeightUpdate.reshape(self.input_size, self.output_size)\n",
    "\n",
    "      if type(self.weights.squeeze()[0][0]) is not TFHEValue:\n",
    "        self.weights = HE_Client.encode_matrix(self.weights)\n",
    "        \n",
    "      self.weights -= mWeightUpdate\n",
    "\n",
    "      ones = np.ones((batchSize, 1)).astype(int)\n",
    "      mBiasUpdate = np.matmul(mDeltas.T, ones)\n",
    "      mBiasUpdate = mBiasUpdate.T / lrInv\n",
    "      self.bias -= mBiasUpdate\n",
    "\n",
    "    def setRandomDfaWeight(self, mInDim, mOutDim):\n",
    "      range = isqrt((12 * SHRT_MAX) / (mInDim + mOutDim))\n",
    "      self.mDfaWeight = np.random.randint(-range, range, (mInDim, mOutDim))\n",
    " \n",
    "    def computeDeltas(self, lastLayerDeltasMat, lrInv):\n",
    "      if self.outLayer:\n",
    "        mDeltas = np.divide(lastLayerDeltasMat, self.matActvGradInv)\n",
    "      else:\n",
    "        if self.mDfaWeight.shape[0] != lastLayerDeltasMat.shape[1] and  self.mDfaWeight.shape[1] != self.weights.shape[1]: # 0 rows, 1 cols\n",
    "          print(\"Initialized DFA\")\n",
    "          self.setRandomDfaWeight(lastLayerDeltasMat.shape[1], self.weights.shape[1])\n",
    "        dot = np.matmul(lastLayerDeltasMat, self.mDfaWeight)   \n",
    "        mDeltas = np.divide(dot, self.matActvGradInv)\n",
    "      return mDeltas"
   ]
  },
  {
   "cell_type": "code",
   "execution_count": 10,
   "metadata": {
    "execution": {
     "iopub.execute_input": "2022-10-15T10:51:09.607780Z",
     "iopub.status.busy": "2022-10-15T10:51:09.607275Z",
     "iopub.status.idle": "2022-10-15T10:51:09.619016Z",
     "shell.execute_reply": "2022-10-15T10:51:09.618467Z"
    }
   },
   "outputs": [],
   "source": [
    "class EncryptedNetwork:\n",
    "    def __init__(self):\n",
    "        self.layers = []\n",
    "        self.loss = None\n",
    "        self.loss_prime = None\n",
    "\n",
    "    # add layer to network\n",
    "    def add(self, layer):\n",
    "        self.layers.append(layer)\n",
    "    \n",
    "    # serialize the network\n",
    "    def serialize(self):\n",
    "        for l in self.layers:\n",
    "          if hasattr(l, \"weights\"):\n",
    "            l.weights = HE_Client.serialize_matrix(l.weights)\n",
    "            l.bias = HE_Client.serialize_matrix(l.bias)\n",
    "            l.matActvGradInv = None\n",
    "            l.input = None\n",
    "            if not l.outLayer:\n",
    "              l.mDfaWeight = HE_Client.serialize_matrix(l.mDfaWeight)\n",
    "    \n",
    "    # deserialize the network\n",
    "    def deserialize(self):\n",
    "        for l in self.layers:\n",
    "          if hasattr(l, \"weights\"):\n",
    "            l.weights = HE_Client.deserialize_matrix(l.weights)\n",
    "            l.bias = HE_Client.deserialize_matrix(l.bias)\n",
    "            if not l.outLayer:\n",
    "              l.mDfaWeight = HE_Client.deserialize_matrix(l.mDfaWeight)\n",
    "\n",
    "    # test\n",
    "    def test(self, x_test, y_test):\n",
    "      # sample dimension first\n",
    "      samples = len(x_test)\n",
    "      corr = HE_Client.encode(0)\n",
    "      enc_x = HE_Client.encrypt_matrix(x_test)\n",
    "      enc_y = HE_Client.encrypt_matrix(y_test)\n",
    "\n",
    "      for j in range(samples):\n",
    "          # forward propagation\n",
    "          pred = self.predict(enc_x[j])\n",
    "          corr = TFHEValue(HE_Client.vm.gate_mux(pred == enc_y[j][0], (corr + 1).value, corr.value), corr.vm, corr.n_bits)\n",
    "\n",
    "      return corr\n",
    "\n",
    "    # predict output for given input\n",
    "    def predict(self, input_data):\n",
    "        output = np.expand_dims(input_data, axis=0)\n",
    "        for layer in self.layers:\n",
    "            output = layer.forward(output)\n",
    "\n",
    "        return encrypted_argmax(output.squeeze())\n",
    "\n",
    "    # train the network\n",
    "    def fit(self, x_train, y_train, epochs, miniBatchSize, lrInv):\n",
    "        # sample dimension first\n",
    "        samples = len(x_train)\n",
    "\n",
    "        # training loop\n",
    "        for i in range(epochs):\n",
    "            epochNumCorrect = 0\n",
    "            numIter = int(samples/miniBatchSize)\n",
    "\n",
    "            for j in range(numIter):\n",
    "                batchNumCorrect = 0\n",
    "                idxStart = j * miniBatchSize\n",
    "                idxEnd = idxStart + miniBatchSize\n",
    "\n",
    "                miniBatchImages = HE_Client.encrypt_matrix(x_train[idxStart:idxEnd])\n",
    "                miniBarchTargets = HE_Client.encrypt_matrix(y_train[idxStart:idxEnd])\n",
    "\n",
    "                # forward propagation\n",
    "                output = miniBatchImages\n",
    "                \n",
    "                start_time = time.time()\n",
    "\n",
    "                for layer in self.layers:\n",
    "                  output = layer.forward(output)\n",
    "\n",
    "                end_time = time.time()\n",
    "\n",
    "                print(\"End forward batch: \" + repr(j))\n",
    "                print(\"Computation time: \")\n",
    "                hours, rem = divmod(end_time-start_time, 3600)\n",
    "                minutes, seconds = divmod(rem, 60)\n",
    "                print(\"{:0>2}:{:0>2}:{:05.2f}\".format(int(hours),int(minutes),seconds))\n",
    "                print(\"\")\n",
    "\n",
    "                # sumLoss += batchL2Loss(miniBarchTargets, output);\n",
    "                lossDeltaMat = batchL2LossDelta(miniBarchTargets, output)\n",
    "\n",
    "#                 dec_out = HE_Client.decrypt_matrix(output)\n",
    "#                 dec_targets = HE_Client.decrypt_matrix(miniBarchTargets)\n",
    "\n",
    "#                 for r in range(miniBatchSize):\n",
    "#                     if dec_targets[r].argmax() == dec_out[r].argmax():\n",
    "#                         batchNumCorrect += 1\n",
    "                \n",
    "                start_time = time.time()\n",
    "\n",
    "                # backward propagation\n",
    "                for layer in reversed(self.layers):\n",
    "                    layer.backward(lossDeltaMat, lrInv)\n",
    "\n",
    "                end_time = time.time()\n",
    "\n",
    "                print(\"End backward batch: \" + repr(j))\n",
    "                print(\"Computation time: \")\n",
    "                hours, rem = divmod(end_time-start_time, 3600)\n",
    "                minutes, seconds = divmod(rem, 60)\n",
    "                print(\"{:0>2}:{:0>2}:{:05.2f}\".format(int(hours),int(minutes),seconds))\n",
    "                print(\"\")\n",
    "\n",
    "                epochNumCorrect += batchNumCorrect;\n",
    "\n",
    "            print(\"Epoch: \" + repr(i))\n",
    "            print(\"EpochNumCorrect: \" + repr(epochNumCorrect))\n",
    "            print(\"Accuracy: \" + repr(epochNumCorrect/samples * 100) + \" %\")\n",
    "            print(\"\")"
   ]
  },
  {
   "cell_type": "code",
   "execution_count": 11,
   "metadata": {
    "execution": {
     "iopub.execute_input": "2022-10-15T10:51:09.621728Z",
     "iopub.status.busy": "2022-10-15T10:51:09.621290Z",
     "iopub.status.idle": "2022-10-15T10:51:09.624865Z",
     "shell.execute_reply": "2022-10-15T10:51:09.624321Z"
    }
   },
   "outputs": [],
   "source": [
    "## UPLOADE DFA WEIGHTS\n",
    "DFAWeights = np.load(\"DFAWeightsPenguins3.npy\")"
   ]
  },
  {
   "cell_type": "code",
   "execution_count": 12,
   "metadata": {
    "execution": {
     "iopub.execute_input": "2022-10-15T10:51:09.627409Z",
     "iopub.status.busy": "2022-10-15T10:51:09.627083Z",
     "iopub.status.idle": "2022-10-15T10:51:09.633948Z",
     "shell.execute_reply": "2022-10-15T10:51:09.633410Z"
    },
    "executionInfo": {
     "elapsed": 28,
     "status": "ok",
     "timestamp": 1651862283951,
     "user": {
      "displayName": "Luca Colombo",
      "userId": "05787806710317186015"
     },
     "user_tz": -120
    },
    "id": "b2Lr_D78MG6O"
   },
   "outputs": [],
   "source": [
    "# Network\n",
    "net = EncryptedNetwork()\n",
    "net.add(EncryptedFCLayer(4, 2))\n",
    "net.add(EncryptedFCLayer(2, 3, outLayer=True))\n",
    "\n",
    "net.layers[0].mDfaWeight = HE_Client.encode_matrix(DFAWeights)"
   ]
  },
  {
   "cell_type": "code",
   "execution_count": 13,
   "metadata": {
    "execution": {
     "iopub.execute_input": "2022-10-15T10:51:09.636779Z",
     "iopub.status.busy": "2022-10-15T10:51:09.636263Z",
     "iopub.status.idle": "2022-10-18T19:46:53.117489Z",
     "shell.execute_reply": "2022-10-18T19:46:53.116859Z"
    }
   },
   "outputs": [
    {
     "name": "stdout",
     "output_type": "stream",
     "text": [
      "End forward batch: 0\n",
      "Computation time: \n",
      "00:21:10.30\n",
      "\n",
      "End backward batch: 0\n",
      "Computation time: \n",
      "02:36:27.15\n",
      "\n",
      "End forward batch: 1\n",
      "Computation time: \n",
      "01:55:32.20\n",
      "\n",
      "End backward batch: 1\n",
      "Computation time: \n",
      "02:36:23.06\n",
      "\n",
      "End forward batch: 2\n",
      "Computation time: \n",
      "01:55:22.35\n",
      "\n",
      "End backward batch: 2\n",
      "Computation time: \n",
      "02:36:37.44\n",
      "\n",
      "End forward batch: 3\n",
      "Computation time: \n",
      "01:55:40.48\n",
      "\n",
      "End backward batch: 3\n",
      "Computation time: \n",
      "02:36:54.69\n",
      "\n",
      "End forward batch: 4\n",
      "Computation time: \n",
      "01:55:48.36\n",
      "\n",
      "End backward batch: 4\n",
      "Computation time: \n",
      "02:36:57.23\n",
      "\n",
      "End forward batch: 5\n",
      "Computation time: \n",
      "01:55:42.33\n",
      "\n",
      "End backward batch: 5\n",
      "Computation time: \n",
      "02:36:57.02\n",
      "\n",
      "Epoch: 0\n",
      "EpochNumCorrect: 0\n",
      "Accuracy: 0.0 %\n",
      "\n",
      "End forward batch: 0\n",
      "Computation time: \n",
      "01:55:45.58\n",
      "\n",
      "End backward batch: 0\n",
      "Computation time: \n",
      "02:36:53.03\n",
      "\n",
      "End forward batch: 1\n",
      "Computation time: \n",
      "01:55:42.24\n",
      "\n",
      "End backward batch: 1\n",
      "Computation time: \n",
      "02:36:58.47\n",
      "\n",
      "End forward batch: 2\n",
      "Computation time: \n",
      "01:55:36.86\n",
      "\n",
      "End backward batch: 2\n",
      "Computation time: \n",
      "02:37:03.10\n",
      "\n",
      "End forward batch: 3\n",
      "Computation time: \n",
      "01:55:46.18\n",
      "\n",
      "End backward batch: 3\n",
      "Computation time: \n",
      "02:37:11.02\n",
      "\n",
      "End forward batch: 4\n",
      "Computation time: \n",
      "01:55:40.72\n",
      "\n",
      "End backward batch: 4\n",
      "Computation time: \n",
      "02:36:57.77\n",
      "\n",
      "End forward batch: 5\n",
      "Computation time: \n",
      "01:55:47.19\n",
      "\n",
      "End backward batch: 5\n",
      "Computation time: \n",
      "02:36:48.66\n",
      "\n",
      "Epoch: 1\n",
      "EpochNumCorrect: 0\n",
      "Accuracy: 0.0 %\n",
      "\n",
      "End forward batch: 0\n",
      "Computation time: \n",
      "01:55:45.68\n",
      "\n",
      "End backward batch: 0\n",
      "Computation time: \n",
      "02:36:56.39\n",
      "\n",
      "End forward batch: 1\n",
      "Computation time: \n",
      "01:55:41.35\n",
      "\n",
      "End backward batch: 1\n",
      "Computation time: \n",
      "02:36:49.99\n",
      "\n",
      "End forward batch: 2\n",
      "Computation time: \n",
      "01:55:49.55\n",
      "\n",
      "End backward batch: 2\n",
      "Computation time: \n",
      "02:37:02.22\n",
      "\n",
      "End forward batch: 3\n",
      "Computation time: \n",
      "01:55:48.56\n",
      "\n",
      "End backward batch: 3\n",
      "Computation time: \n",
      "02:36:53.01\n",
      "\n",
      "End forward batch: 4\n",
      "Computation time: \n",
      "01:55:37.36\n",
      "\n",
      "End backward batch: 4\n",
      "Computation time: \n",
      "02:37:01.36\n",
      "\n",
      "End forward batch: 5\n",
      "Computation time: \n",
      "01:56:06.26\n",
      "\n",
      "End backward batch: 5\n",
      "Computation time: \n",
      "02:37:18.53\n",
      "\n",
      "Epoch: 2\n",
      "EpochNumCorrect: 0\n",
      "Accuracy: 0.0 %\n",
      "\n",
      "CPU times: user 3d 8h 46min 56s, sys: 59.8 s, total: 3d 8h 47min 56s\n",
      "Wall time: 3d 8h 55min 43s\n"
     ]
    }
   ],
   "source": [
    "%%time\n",
    "# training\n",
    "net.fit(x_train, y_train, epochs=3, miniBatchSize=25, lrInv=512)"
   ]
  },
  {
   "cell_type": "code",
   "execution_count": 14,
   "metadata": {
    "execution": {
     "iopub.execute_input": "2022-10-18T19:46:53.120782Z",
     "iopub.status.busy": "2022-10-18T19:46:53.120299Z",
     "iopub.status.idle": "2022-10-19T00:49:39.915777Z",
     "shell.execute_reply": "2022-10-19T00:49:39.915168Z"
    }
   },
   "outputs": [
    {
     "name": "stdout",
     "output_type": "stream",
     "text": [
      "25\n",
      "CPU times: user 5h 2min 13s, sys: 3.55 s, total: 5h 2min 17s\n",
      "Wall time: 5h 2min 46s\n"
     ]
    }
   ],
   "source": [
    "%%time\n",
    "# validation\n",
    "corr = net.test(x_val, y_val)\n",
    "print(HE_Client.decrypt(corr))"
   ]
  },
  {
   "cell_type": "code",
   "execution_count": 15,
   "metadata": {
    "execution": {
     "iopub.execute_input": "2022-10-19T00:49:39.919129Z",
     "iopub.status.busy": "2022-10-19T00:49:39.918539Z",
     "iopub.status.idle": "2022-10-19T00:49:39.933009Z",
     "shell.execute_reply": "2022-10-19T00:49:39.932531Z"
    }
   },
   "outputs": [],
   "source": [
    "net.serialize()"
   ]
  },
  {
   "cell_type": "code",
   "execution_count": 16,
   "metadata": {
    "execution": {
     "iopub.execute_input": "2022-10-19T00:49:39.935786Z",
     "iopub.status.busy": "2022-10-19T00:49:39.935465Z",
     "iopub.status.idle": "2022-10-19T00:49:39.939678Z",
     "shell.execute_reply": "2022-10-19T00:49:39.939225Z"
    }
   },
   "outputs": [],
   "source": [
    "with open(\"encnet3.pkl\", \"wb\") as f:\n",
    "  pickle.dump(net, f)\n",
    "  pickle.dump(HE_Client.serialize(corr), f)"
   ]
  }
 ],
 "metadata": {
  "accelerator": "GPU",
  "colab": {
   "authorship_tag": "ABX9TyNDVK1GUNs7ICExTzMIGeYt",
   "collapsed_sections": [],
   "name": "PyCrCNN_PocketNN_Training.ipynb",
   "provenance": []
  },
  "kernelspec": {
   "display_name": "Python 3 (ipykernel)",
   "language": "python",
   "name": "python3"
  },
  "language_info": {
   "codemirror_mode": {
    "name": "ipython",
    "version": 3
   },
   "file_extension": ".py",
   "mimetype": "text/x-python",
   "name": "python",
   "nbconvert_exporter": "python",
   "pygments_lexer": "ipython3",
   "version": "3.10.8"
  },
  "vscode": {
   "interpreter": {
    "hash": "916dbcbb3f70747c44a77c7bcd40155683ae19c65e1c03b4aa3499c5328201f1"
   }
  }
 },
 "nbformat": 4,
 "nbformat_minor": 4
}
