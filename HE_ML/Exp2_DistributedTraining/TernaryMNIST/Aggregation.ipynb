{
 "cells": [
  {
   "cell_type": "code",
   "execution_count": null,
   "metadata": {},
   "outputs": [],
   "source": [
    "from __future__ import print_function\n",
    "\n",
    "import os, sys\n",
    "module_path = os.path.abspath(os.path.join('../../..'))\n",
    "sys.path.append(module_path)\n",
    "\n",
    "import numpy as np\n",
    "import math\n",
    "import copy\n",
    "import pandas as pd\n",
    "from keras.utils import np_utils\n",
    "from keras.datasets import mnist\n",
    "import time\n",
    "import pickle\n",
    "\n",
    "from pycrcnn.he.he import TFHEnuFHE\n",
    "from pycrcnn.he.tfhe_value import TFHEValue\n",
    "from pycrcnn.he.alu import *"
   ]
  },
  {
   "attachments": {},
   "cell_type": "markdown",
   "metadata": {},
   "source": [
    "## HE Init"
   ]
  },
  {
   "cell_type": "code",
   "execution_count": null,
   "metadata": {
    "execution": {
     "iopub.execute_input": "2022-11-25T19:36:57.108729Z",
     "iopub.status.busy": "2022-11-25T19:36:57.108442Z",
     "iopub.status.idle": "2022-11-25T19:36:57.442715Z",
     "shell.execute_reply": "2022-11-25T19:36:57.440401Z"
    },
    "executionInfo": {
     "elapsed": 3124,
     "status": "ok",
     "timestamp": 1651862255412,
     "user": {
      "displayName": "Luca Colombo",
      "userId": "05787806710317186015"
     },
     "user_tz": -120
    },
    "id": "gJbSks0DFdDs"
   },
   "outputs": [],
   "source": [
    "HE_client = TFHEnuFHE(22)\n",
    "\n",
    "with open(\"res/secret_key\", \"rb\") as f:\n",
    "    HE_client.secret_key = HE_client.ctx.load_secret_key(f)\n",
    "    \n",
    "with open(\"res/cloud_key\", \"rb\") as f:\n",
    "    HE_client.cloud_key = HE_client.ctx.load_cloud_key(f)\n",
    "\n",
    "cloud_key = HE_client.cloud_key\n",
    "HE_client.generate_vm(cloud_key)"
   ]
  },
  {
   "cell_type": "code",
   "execution_count": null,
   "metadata": {
    "execution": {
     "iopub.execute_input": "2022-11-25T19:36:57.449903Z",
     "iopub.status.busy": "2022-11-25T19:36:57.449616Z",
     "iopub.status.idle": "2022-11-25T19:37:38.050769Z",
     "shell.execute_reply": "2022-11-25T19:37:38.048793Z"
    },
    "executionInfo": {
     "elapsed": 28535,
     "status": "ok",
     "timestamp": 1651862283941,
     "user": {
      "displayName": "Luca Colombo",
      "userId": "05787806710317186015"
     },
     "user_tz": -120
    },
    "id": "tsfVVfwUFeyB"
   },
   "outputs": [],
   "source": [
    "num1 = HE_client.encrypt(1)\n",
    "num2 = HE_client.encode(6)\n",
    "sum = num1+num2\n",
    "mul = num1*num2"
   ]
  },
  {
   "attachments": {},
   "cell_type": "markdown",
   "metadata": {},
   "source": [
    "## Experiments"
   ]
  },
  {
   "cell_type": "code",
   "execution_count": null,
   "metadata": {
    "execution": {
     "iopub.execute_input": "2022-11-25T19:37:38.203952Z",
     "iopub.status.busy": "2022-11-25T19:37:38.203684Z",
     "iopub.status.idle": "2022-11-25T19:37:38.210983Z",
     "shell.execute_reply": "2022-11-25T19:37:38.209276Z"
    }
   },
   "outputs": [],
   "source": [
    "## UPLOAD DFA WEIGHTS\n",
    "DFA_weights1 = np.load(\"res/DFA_weights_L1.npy\")\n",
    "DFA_weights2 = np.load(\"res/DFA_weights_L2.npy\")"
   ]
  },
  {
   "attachments": {},
   "cell_type": "markdown",
   "metadata": {},
   "source": [
    "### Aggregation"
   ]
  },
  {
   "cell_type": "code",
   "execution_count": null,
   "metadata": {},
   "outputs": [],
   "source": [
    "# Load decrypted trained weights model 1\n",
    "with open(\"res/trained_weights_M1.pkl\", \"rb\") as f:\n",
    "    weights2_M1 = pickle.load(f)\n",
    "    bias2_M1 = pickle.load(f)\n",
    "    weights3_M1 = pickle.load(f)\n",
    "    bias3_M1 = pickle.load(f)\n",
    "    weights4_M1 = pickle.load(f)\n",
    "    bias4_M1 = pickle.load(f)"
   ]
  },
  {
   "cell_type": "code",
   "execution_count": null,
   "metadata": {},
   "outputs": [],
   "source": [
    "# Load decrypted trained weights model 2\n",
    "with open(\"res/trained_weights_M2.pkl\", \"rb\") as f:\n",
    "    weights2_M2 = pickle.load(f)\n",
    "    bias2_M2 = pickle.load(f)\n",
    "    weights3_M2 = pickle.load(f)\n",
    "    bias3_M2 = pickle.load(f)\n",
    "    weights4_M2 = pickle.load(f)\n",
    "    bias4_M2 = pickle.load(f)"
   ]
  },
  {
   "cell_type": "code",
   "execution_count": null,
   "metadata": {},
   "outputs": [],
   "source": [
    "# Group encrypted weights\n",
    "W2 = [HE_client.encrypt_matrix(weights2_M1), HE_client.encrypt_matrix(weights2_M2)]\n",
    "B2 = [HE_client.encrypt_matrix(bias2_M1), HE_client.encrypt_matrix(bias2_M2)]\n",
    "\n",
    "W3 = [HE_client.encrypt_matrix(weights3_M1), HE_client.encrypt_matrix(weights3_M2)]\n",
    "B3 = [HE_client.encrypt_matrix(bias3_M1), HE_client.encrypt_matrix(bias3_M2)]\n",
    "\n",
    "W4 = [HE_client.encrypt_matrix(weights4_M1), HE_client.encrypt_matrix(weights4_M2)]\n",
    "B4 = [HE_client.encrypt_matrix(bias4_M1), HE_client.encrypt_matrix(bias4_M2)]"
   ]
  },
  {
   "cell_type": "code",
   "execution_count": null,
   "metadata": {},
   "outputs": [
    {
     "name": "stdout",
     "output_type": "stream",
     "text": [
      "CPU times: user 23min 41s, sys: 5.04 s, total: 23min 46s\n",
      "Wall time: 23min 44s\n"
     ]
    }
   ],
   "source": [
    "%%time\n",
    "# Aggragation of encrypted weights\n",
    "average_weights2 = encrypted_mean_matrix(W2)\n",
    "average_bias2 = encrypted_mean_matrix(B2)\n",
    "average_weights3 = encrypted_mean_matrix(W3)\n",
    "average_bias3 = encrypted_mean_matrix(B3)\n",
    "average_weights4 = encrypted_mean_matrix(W4)\n",
    "average_bias4 = encrypted_mean_matrix(B4)"
   ]
  },
  {
   "attachments": {},
   "cell_type": "markdown",
   "metadata": {},
   "source": [
    "### Serialization"
   ]
  },
  {
   "cell_type": "code",
   "execution_count": null,
   "metadata": {},
   "outputs": [],
   "source": [
    "# Decrypt aggregated encrypted weights\n",
    "decrypted_weights2 = HE_client.decrypt_matrix(average_weights2)\n",
    "decrypted_bias2 = HE_client.decrypt_matrix(average_bias2)\n",
    "decrypted_weights3 = HE_client.decrypt_matrix(average_weights3)\n",
    "decrypted_bias3 = HE_client.decrypt_matrix(average_bias3)\n",
    "decrypted_weights4 = HE_client.decrypt_matrix(average_weights4)\n",
    "decrypted_bias4 = HE_client.decrypt_matrix(average_bias4)"
   ]
  },
  {
   "cell_type": "code",
   "execution_count": null,
   "metadata": {},
   "outputs": [],
   "source": [
    "# Save decrypted trained weights\n",
    "with open(\"res/aggregated_weights.pkl\", \"wb\") as f:\n",
    "    pickle.dump(decrypted_weights2, f)\n",
    "    pickle.dump(decrypted_bias2, f)\n",
    "    pickle.dump(decrypted_weights3, f)\n",
    "    pickle.dump(decrypted_bias3, f)\n",
    "    pickle.dump(decrypted_weights4, f)\n",
    "    pickle.dump(decrypted_bias4, f)"
   ]
  }
 ],
 "metadata": {
  "accelerator": "GPU",
  "colab": {
   "authorship_tag": "ABX9TyNDVK1GUNs7ICExTzMIGeYt",
   "collapsed_sections": [],
   "name": "PyCrCNN_PocketNN_Training.ipynb",
   "provenance": []
  },
  "kernelspec": {
   "display_name": "Python 3.10.6 64-bit",
   "language": "python",
   "name": "python3"
  },
  "language_info": {
   "codemirror_mode": {
    "name": "ipython",
    "version": 3
   },
   "file_extension": ".py",
   "mimetype": "text/x-python",
   "name": "python",
   "nbconvert_exporter": "python",
   "pygments_lexer": "ipython3",
   "version": "3.10.6 (main, Nov 14 2022, 16:10:14) [GCC 11.3.0]"
  },
  "vscode": {
   "interpreter": {
    "hash": "e7370f93d1d0cde622a1f8e1c04877d8463912d04d973331ad4851f04de6915a"
   }
  }
 },
 "nbformat": 4,
 "nbformat_minor": 4
}
