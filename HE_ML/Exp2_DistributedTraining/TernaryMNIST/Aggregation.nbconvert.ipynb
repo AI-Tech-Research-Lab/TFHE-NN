{
 "cells": [
  {
   "cell_type": "code",
   "execution_count": 1,
   "metadata": {
    "execution": {
     "iopub.execute_input": "2023-01-24T23:32:24.031617Z",
     "iopub.status.busy": "2023-01-24T23:32:24.031095Z",
     "iopub.status.idle": "2023-01-24T23:32:27.524016Z",
     "shell.execute_reply": "2023-01-24T23:32:27.521431Z"
    }
   },
   "outputs": [
    {
     "name": "stderr",
     "output_type": "stream",
     "text": [
      "2023-01-24 23:32:24.589266: I tensorflow/core/platform/cpu_feature_guard.cc:193] This TensorFlow binary is optimized with oneAPI Deep Neural Network Library (oneDNN) to use the following CPU instructions in performance-critical operations:  AVX2 AVX512F AVX512_VNNI FMA\n",
      "To enable them in other operations, rebuild TensorFlow with the appropriate compiler flags.\n",
      "2023-01-24 23:32:24.893013: I tensorflow/core/util/port.cc:104] oneDNN custom operations are on. You may see slightly different numerical results due to floating-point round-off errors from different computation orders. To turn them off, set the environment variable `TF_ENABLE_ONEDNN_OPTS=0`.\n",
      "2023-01-24 23:32:26.236568: W tensorflow/compiler/xla/stream_executor/platform/default/dso_loader.cc:64] Could not load dynamic library 'libnvinfer.so.7'; dlerror: libnvinfer.so.7: cannot open shared object file: No such file or directory\n",
      "2023-01-24 23:32:26.236642: W tensorflow/compiler/xla/stream_executor/platform/default/dso_loader.cc:64] Could not load dynamic library 'libnvinfer_plugin.so.7'; dlerror: libnvinfer_plugin.so.7: cannot open shared object file: No such file or directory\n",
      "2023-01-24 23:32:26.236649: W tensorflow/compiler/tf2tensorrt/utils/py_utils.cc:38] TF-TRT Warning: Cannot dlopen some TensorRT libraries. If you would like to use Nvidia GPU with TensorRT, please make sure the missing libraries mentioned above are installed properly.\n"
     ]
    }
   ],
   "source": [
    "from __future__ import print_function\n",
    "\n",
    "import os, sys\n",
    "module_path = os.path.abspath(os.path.join('../../..'))\n",
    "sys.path.append(module_path)\n",
    "\n",
    "import numpy as np\n",
    "import math\n",
    "import copy\n",
    "import pandas as pd\n",
    "from keras.utils import np_utils\n",
    "from keras.datasets import mnist\n",
    "import time\n",
    "import pickle\n",
    "\n",
    "from pycrcnn.he.he import TFHEnuFHE\n",
    "from pycrcnn.he.tfhe_value import TFHEValue\n",
    "from pycrcnn.he.alu import *"
   ]
  },
  {
   "attachments": {},
   "cell_type": "markdown",
   "metadata": {},
   "source": [
    "## HE Init"
   ]
  },
  {
   "cell_type": "code",
   "execution_count": 2,
   "metadata": {
    "execution": {
     "iopub.execute_input": "2023-01-24T23:32:27.536164Z",
     "iopub.status.busy": "2023-01-24T23:32:27.530058Z",
     "iopub.status.idle": "2023-01-24T23:32:28.020022Z",
     "shell.execute_reply": "2023-01-24T23:32:28.018942Z"
    },
    "executionInfo": {
     "elapsed": 3124,
     "status": "ok",
     "timestamp": 1651862255412,
     "user": {
      "displayName": "Luca Colombo",
      "userId": "05787806710317186015"
     },
     "user_tz": -120
    },
    "id": "gJbSks0DFdDs"
   },
   "outputs": [],
   "source": [
    "HE_client = TFHEnuFHE(22)\n",
    "\n",
    "with open(\"res/secret_key\", \"rb\") as f:\n",
    "    HE_client.secret_key = HE_client.ctx.load_secret_key(f)\n",
    "    \n",
    "with open(\"res/cloud_key\", \"rb\") as f:\n",
    "    HE_client.cloud_key = HE_client.ctx.load_cloud_key(f)\n",
    "\n",
    "cloud_key = HE_client.cloud_key\n",
    "HE_client.generate_vm(cloud_key)"
   ]
  },
  {
   "cell_type": "code",
   "execution_count": 3,
   "metadata": {
    "execution": {
     "iopub.execute_input": "2023-01-24T23:32:28.026366Z",
     "iopub.status.busy": "2023-01-24T23:32:28.025886Z",
     "iopub.status.idle": "2023-01-24T23:33:04.555887Z",
     "shell.execute_reply": "2023-01-24T23:33:04.553435Z"
    },
    "executionInfo": {
     "elapsed": 28535,
     "status": "ok",
     "timestamp": 1651862283941,
     "user": {
      "displayName": "Luca Colombo",
      "userId": "05787806710317186015"
     },
     "user_tz": -120
    },
    "id": "tsfVVfwUFeyB"
   },
   "outputs": [],
   "source": [
    "num1 = HE_client.encrypt(1)\n",
    "num2 = HE_client.encode(6)\n",
    "sum = num1+num2\n",
    "mul = num1*num2"
   ]
  },
  {
   "attachments": {},
   "cell_type": "markdown",
   "metadata": {},
   "source": [
    "## Experiments"
   ]
  },
  {
   "cell_type": "code",
   "execution_count": 4,
   "metadata": {
    "execution": {
     "iopub.execute_input": "2023-01-24T23:33:04.561035Z",
     "iopub.status.busy": "2023-01-24T23:33:04.560630Z",
     "iopub.status.idle": "2023-01-24T23:33:04.577290Z",
     "shell.execute_reply": "2023-01-24T23:33:04.576672Z"
    }
   },
   "outputs": [],
   "source": [
    "## UPLOAD DFA WEIGHTS\n",
    "DFA_weights1 = np.load(\"res/DFA_weights_L1.npy\")\n",
    "DFA_weights2 = np.load(\"res/DFA_weights_L2.npy\")"
   ]
  },
  {
   "attachments": {},
   "cell_type": "markdown",
   "metadata": {},
   "source": [
    "### Aggregation"
   ]
  },
  {
   "cell_type": "code",
   "execution_count": 5,
   "metadata": {
    "execution": {
     "iopub.execute_input": "2023-01-24T23:33:04.592761Z",
     "iopub.status.busy": "2023-01-24T23:33:04.579788Z",
     "iopub.status.idle": "2023-01-24T23:33:04.596996Z",
     "shell.execute_reply": "2023-01-24T23:33:04.596515Z"
    }
   },
   "outputs": [],
   "source": [
    "# Load decrypted trained weights model 1\n",
    "with open(\"res/trained_weights_M1.pkl\", \"rb\") as f:\n",
    "    weights2_M1 = pickle.load(f)\n",
    "    bias2_M1 = pickle.load(f)\n",
    "    weights3_M1 = pickle.load(f)\n",
    "    bias3_M1 = pickle.load(f)\n",
    "    weights4_M1 = pickle.load(f)\n",
    "    bias4_M1 = pickle.load(f)"
   ]
  },
  {
   "cell_type": "code",
   "execution_count": 6,
   "metadata": {
    "execution": {
     "iopub.execute_input": "2023-01-24T23:33:04.605907Z",
     "iopub.status.busy": "2023-01-24T23:33:04.605431Z",
     "iopub.status.idle": "2023-01-24T23:33:04.629572Z",
     "shell.execute_reply": "2023-01-24T23:33:04.627160Z"
    }
   },
   "outputs": [],
   "source": [
    "# Load decrypted trained weights model 2\n",
    "with open(\"res/trained_weights_M2.pkl\", \"rb\") as f:\n",
    "    weights2_M2 = pickle.load(f)\n",
    "    bias2_M2 = pickle.load(f)\n",
    "    weights3_M2 = pickle.load(f)\n",
    "    bias3_M2 = pickle.load(f)\n",
    "    weights4_M2 = pickle.load(f)\n",
    "    bias4_M2 = pickle.load(f)"
   ]
  },
  {
   "cell_type": "code",
   "execution_count": 7,
   "metadata": {
    "execution": {
     "iopub.execute_input": "2023-01-24T23:33:04.632703Z",
     "iopub.status.busy": "2023-01-24T23:33:04.632229Z",
     "iopub.status.idle": "2023-01-24T23:33:04.882909Z",
     "shell.execute_reply": "2023-01-24T23:33:04.880485Z"
    }
   },
   "outputs": [],
   "source": [
    "# Group encrypted weights\n",
    "W2 = [HE_client.encrypt_matrix(weights2_M1), HE_client.encrypt_matrix(weights2_M2)]\n",
    "B2 = [HE_client.encrypt_matrix(bias2_M1), HE_client.encrypt_matrix(bias2_M2)]\n",
    "\n",
    "W3 = [HE_client.encrypt_matrix(weights3_M1), HE_client.encrypt_matrix(weights3_M2)]\n",
    "B3 = [HE_client.encrypt_matrix(bias3_M1), HE_client.encrypt_matrix(bias3_M2)]\n",
    "\n",
    "W4 = [HE_client.encrypt_matrix(weights4_M1), HE_client.encrypt_matrix(weights4_M2)]\n",
    "B4 = [HE_client.encrypt_matrix(bias4_M1), HE_client.encrypt_matrix(bias4_M2)]"
   ]
  },
  {
   "cell_type": "code",
   "execution_count": 8,
   "metadata": {
    "execution": {
     "iopub.execute_input": "2023-01-24T23:33:04.890151Z",
     "iopub.status.busy": "2023-01-24T23:33:04.889643Z",
     "iopub.status.idle": "2023-01-25T00:00:56.129344Z",
     "shell.execute_reply": "2023-01-25T00:00:56.128766Z"
    }
   },
   "outputs": [
    {
     "name": "stdout",
     "output_type": "stream",
     "text": [
      "CPU times: user 11min 41s, sys: 223 ms, total: 11min 41s\n",
      "Wall time: 27min 51s\n"
     ]
    }
   ],
   "source": [
    "%%time\n",
    "# Aggragation of encrypted weights\n",
    "average_weights2 = encrypted_mean_matrix(W2)\n",
    "average_bias2 = encrypted_mean_matrix(B2)\n",
    "average_weights3 = encrypted_mean_matrix(W3)\n",
    "average_bias3 = encrypted_mean_matrix(B3)\n",
    "average_weights4 = encrypted_mean_matrix(W4)\n",
    "average_bias4 = encrypted_mean_matrix(B4)"
   ]
  },
  {
   "attachments": {},
   "cell_type": "markdown",
   "metadata": {},
   "source": [
    "### Serialization"
   ]
  },
  {
   "cell_type": "code",
   "execution_count": 9,
   "metadata": {
    "execution": {
     "iopub.execute_input": "2023-01-25T00:00:56.135320Z",
     "iopub.status.busy": "2023-01-25T00:00:56.134782Z",
     "iopub.status.idle": "2023-01-25T00:00:56.179873Z",
     "shell.execute_reply": "2023-01-25T00:00:56.176859Z"
    }
   },
   "outputs": [],
   "source": [
    "# Decrypt aggregated encrypted weights\n",
    "decrypted_weights2 = HE_client.decrypt_matrix(average_weights2)\n",
    "decrypted_bias2 = HE_client.decrypt_matrix(average_bias2)\n",
    "decrypted_weights3 = HE_client.decrypt_matrix(average_weights3)\n",
    "decrypted_bias3 = HE_client.decrypt_matrix(average_bias3)\n",
    "decrypted_weights4 = HE_client.decrypt_matrix(average_weights4)\n",
    "decrypted_bias4 = HE_client.decrypt_matrix(average_bias4)"
   ]
  },
  {
   "cell_type": "code",
   "execution_count": 10,
   "metadata": {
    "execution": {
     "iopub.execute_input": "2023-01-25T00:00:56.182933Z",
     "iopub.status.busy": "2023-01-25T00:00:56.182420Z",
     "iopub.status.idle": "2023-01-25T00:00:56.196012Z",
     "shell.execute_reply": "2023-01-25T00:00:56.194115Z"
    }
   },
   "outputs": [],
   "source": [
    "# Save decrypted trained weights\n",
    "with open(\"res/aggregated_weights.pkl\", \"wb\") as f:\n",
    "    pickle.dump(decrypted_weights2, f)\n",
    "    pickle.dump(decrypted_bias2, f)\n",
    "    pickle.dump(decrypted_weights3, f)\n",
    "    pickle.dump(decrypted_bias3, f)\n",
    "    pickle.dump(decrypted_weights4, f)\n",
    "    pickle.dump(decrypted_bias4, f)"
   ]
  }
 ],
 "metadata": {
  "accelerator": "GPU",
  "colab": {
   "authorship_tag": "ABX9TyNDVK1GUNs7ICExTzMIGeYt",
   "collapsed_sections": [],
   "name": "PyCrCNN_PocketNN_Training.ipynb",
   "provenance": []
  },
  "kernelspec": {
   "display_name": "Python 3.10.6 64-bit",
   "language": "python",
   "name": "python3"
  },
  "language_info": {
   "codemirror_mode": {
    "name": "ipython",
    "version": 3
   },
   "file_extension": ".py",
   "mimetype": "text/x-python",
   "name": "python",
   "nbconvert_exporter": "python",
   "pygments_lexer": "ipython3",
   "version": "3.8.10"
  },
  "vscode": {
   "interpreter": {
    "hash": "e7370f93d1d0cde622a1f8e1c04877d8463912d04d973331ad4851f04de6915a"
   }
  }
 },
 "nbformat": 4,
 "nbformat_minor": 4
}
