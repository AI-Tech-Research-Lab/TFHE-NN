{
 "cells": [
  {
   "cell_type": "code",
   "execution_count": null,
   "metadata": {},
   "outputs": [],
   "source": [
    "from __future__ import print_function\n",
    "\n",
    "import os, sys\n",
    "module_path = os.path.abspath(os.path.join('../../..'))\n",
    "sys.path.append(module_path)\n",
    "\n",
    "import numpy as np\n",
    "import math\n",
    "import copy\n",
    "import pandas as pd\n",
    "from keras.utils import np_utils\n",
    "from keras.datasets import mnist\n",
    "import time\n",
    "import pickle\n",
    "\n",
    "from pycrcnn.he.he import TFHEnuFHE\n",
    "from pycrcnn.he.tfhe_value import TFHEValue\n",
    "from pycrcnn.he.alu import *"
   ]
  },
  {
   "attachments": {},
   "cell_type": "markdown",
   "metadata": {},
   "source": [
    "## Dataset"
   ]
  },
  {
   "cell_type": "code",
   "execution_count": null,
   "metadata": {
    "execution": {
     "iopub.execute_input": "2022-10-15T10:35:50.596282Z",
     "iopub.status.busy": "2022-10-15T10:35:50.595674Z",
     "iopub.status.idle": "2022-10-15T10:35:50.602586Z",
     "shell.execute_reply": "2022-10-15T10:35:50.601966Z"
    }
   },
   "outputs": [],
   "source": [
    "# Min-Max quantization function\n",
    "def quantize_tensor(x, num_bits, min_val=None, max_val=None):\n",
    "    if not min_val and not max_val: \n",
    "        min_val, max_val = x.min(), x.max()\n",
    "    qmin = -2.**(num_bits-1)\n",
    "    qmax = 2.**(num_bits-1) - 1.\n",
    "   \n",
    "    x = x - min_val          # Allineo tutto l'array in modo che parta da 0\n",
    "    x /= (max_val - min_val) # Lo scalo tra 0 e 1    \n",
    "    x *= (qmax - qmin)       # Lo scalo tra 0 e 16\n",
    "    x -= qmax                # Lo sfaso tra -8 e 7\n",
    "    q_x = x.astype(float).round().astype(int)\n",
    "    \n",
    "    return q_x"
   ]
  },
  {
   "cell_type": "code",
   "execution_count": null,
   "metadata": {},
   "outputs": [],
   "source": [
    "# Prepare Penguins dataset\n",
    "penguins = pd.read_csv('../penguins_size.csv')\n",
    "penguins = penguins.sample(frac=1, random_state=2)\n",
    "penguins = penguins.dropna()\n",
    "\n",
    "# Feature selection\n",
    "x_train, y_train = penguins.loc[:, [\"island\", \"culmen_length_mm\", \"flipper_length_mm\", \"body_mass_g\"]].values, penguins.iloc[:, :1].values\n",
    "\n",
    "# Encode labels\n",
    "for i in range(len(y_train)):\n",
    "    if y_train[i][0] == \"Adelie\":\n",
    "        y_train[i][0] = 0\n",
    "    elif y_train[i][0] == \"Gentoo\":\n",
    "        y_train[i][0] = 1\n",
    "    else:\n",
    "        y_train[i][0] = 2\n",
    "\n",
    "island = {}\n",
    "countI = 0\n",
    "for i in range(len(x_train)):\n",
    "  # Island\n",
    "  if x_train[i][0] in island:\n",
    "      x_train[i][0] = island[x_train[i][0]]\n",
    "  else:\n",
    "      island[x_train[i][0]] = countI\n",
    "      x_train[i][0] = countI\n",
    "      countI += 1\n",
    "\n",
    "# Quantize tensors with 4 bits\n",
    "x_train[:, 1] = quantize_tensor(x_train[:, 1], 4)\n",
    "x_train[:, 2] = quantize_tensor(x_train[:, 2], 4)\n",
    "x_train[:, 3] = quantize_tensor(x_train[:, 3], 4)\n",
    "\n",
    "# Split Train-Validation set\n",
    "train, val = 150, 64\n",
    "x_val, y_val = x_train[train:train+val], y_train[train:train+val]\n",
    "x_test, y_test = x_train[train+val:], y_train[train+val:]\n",
    "y_train = np_utils.to_categorical(y_train).astype(int)*8\n",
    "x_train, y_train = x_train[:train], y_train[:train]"
   ]
  },
  {
   "attachments": {},
   "cell_type": "markdown",
   "metadata": {},
   "source": [
    "## HE Init"
   ]
  },
  {
   "cell_type": "code",
   "execution_count": null,
   "metadata": {
    "execution": {
     "iopub.execute_input": "2022-10-15T10:35:50.636625Z",
     "iopub.status.busy": "2022-10-15T10:35:50.636373Z",
     "iopub.status.idle": "2022-10-15T10:35:53.601433Z",
     "shell.execute_reply": "2022-10-15T10:35:53.600833Z"
    },
    "executionInfo": {
     "elapsed": 3124,
     "status": "ok",
     "timestamp": 1651862255412,
     "user": {
      "displayName": "Luca Colombo",
      "userId": "05787806710317186015"
     },
     "user_tz": -120
    },
    "id": "gJbSks0DFdDs"
   },
   "outputs": [],
   "source": [
    "HE_client = TFHEnuFHE(16)\n",
    "\n",
    "with open(\"res/secret_key\", \"rb\") as f:\n",
    "    HE_client.secret_key = HE_client.ctx.load_secret_key(f)\n",
    "    \n",
    "with open(\"res/cloud_key\", \"rb\") as f:\n",
    "    HE_client.cloud_key = HE_client.ctx.load_cloud_key(f)\n",
    "\n",
    "cloud_key = HE_client.cloud_key\n",
    "HE_client.generate_vm(cloud_key)"
   ]
  },
  {
   "cell_type": "code",
   "execution_count": null,
   "metadata": {
    "execution": {
     "iopub.execute_input": "2022-10-15T10:35:53.604729Z",
     "iopub.status.busy": "2022-10-15T10:35:53.604452Z",
     "iopub.status.idle": "2022-10-15T10:36:13.286059Z",
     "shell.execute_reply": "2022-10-15T10:36:13.285455Z"
    },
    "executionInfo": {
     "elapsed": 28535,
     "status": "ok",
     "timestamp": 1651862283941,
     "user": {
      "displayName": "Luca Colombo",
      "userId": "05787806710317186015"
     },
     "user_tz": -120
    },
    "id": "tsfVVfwUFeyB"
   },
   "outputs": [],
   "source": [
    "num1 = HE_client.encrypt(1)\n",
    "num2 = HE_client.encode(6)\n",
    "sum = num1+num2\n",
    "mul = num1*num2"
   ]
  },
  {
   "attachments": {},
   "cell_type": "markdown",
   "metadata": {},
   "source": [
    "## EncNet Architecture"
   ]
  },
  {
   "cell_type": "code",
   "execution_count": null,
   "metadata": {
    "execution": {
     "iopub.execute_input": "2022-10-15T10:36:13.290134Z",
     "iopub.status.busy": "2022-10-15T10:36:13.289731Z",
     "iopub.status.idle": "2022-10-15T10:36:13.293465Z",
     "shell.execute_reply": "2022-10-15T10:36:13.292862Z"
    }
   },
   "outputs": [],
   "source": [
    "SHRT_MAX = 32767\n",
    "SHRT_MIN = (-SHRT_MAX - 1 )\n",
    "\n",
    "# Int square root\n",
    "def isqrt(n):\n",
    "    x = n\n",
    "    y = (x + 1) // 2\n",
    "    while y < x:\n",
    "        x = y\n",
    "        y = (x + n // x) // 2\n",
    "    return x"
   ]
  },
  {
   "cell_type": "code",
   "execution_count": null,
   "metadata": {},
   "outputs": [],
   "source": [
    "# Encrypted PLA tanh Activation function\n",
    "def encrypted_tanh(act_in, in_dim, out_dim):\n",
    "    y_max, y_min = HE_client.encode(128), HE_client.encode(-127)\n",
    "    intervals = HE_client.encode_matrix([128, 75, 32, -31, -74, -127])\n",
    "    slopes_inv = HE_client.encode_matrix([128, 8, 2, 1, 2, 8, 128])\n",
    "    act_out, act_grad_inv = np.full((act_in.shape[0], out_dim), y_max), np.full((act_in.shape[0], out_dim), slopes_inv[0])\n",
    "\n",
    "    for i in range(len(act_in)):\n",
    "      for j in range(len(act_in[i].squeeze())):\n",
    "        val = act_in[i].squeeze()[j] / ((1 << 8) * in_dim)\n",
    "\n",
    "        lt0 = val < intervals[0]\n",
    "        act_out[i][j] = TFHEValue(HE_client.vm.gate_mux(lt0, (val / 4).value, act_out[i][j].value), val.vm, val.n_bits)\n",
    "        act_grad_inv[i][j] = TFHEValue(HE_client.vm.gate_mux(lt0, slopes_inv[1].value, act_grad_inv[i][j].value), val.vm, val.n_bits)\n",
    "\n",
    "        lt1 = val < intervals[1]\n",
    "        act_out[i][j] = TFHEValue(HE_client.vm.gate_mux(lt1, val.value, act_out[i][j].value), val.vm, val.n_bits)\n",
    "        act_grad_inv[i][j] = TFHEValue(HE_client.vm.gate_mux(lt1, slopes_inv[2].value, act_grad_inv[i][j].value), val.vm, val.n_bits)\n",
    "\n",
    "        lt2 = val < intervals[2]\n",
    "        act_out[i][j] = TFHEValue(HE_client.vm.gate_mux(lt2, (val * 2).value, act_out[i][j].value), val.vm, val.n_bits)\n",
    "        act_grad_inv[i][j] = TFHEValue(HE_client.vm.gate_mux(lt2, slopes_inv[3].value, act_grad_inv[i][j].value), val.vm, val.n_bits)\n",
    "\n",
    "        lt3 = val < intervals[3]\n",
    "        act_out[i][j] = TFHEValue(HE_client.vm.gate_mux(lt3, val.value, act_out[i][j].value), val.vm, val.n_bits)\n",
    "        act_grad_inv[i][j] = TFHEValue(HE_client.vm.gate_mux(lt3, slopes_inv[4].value, act_grad_inv[i][j].value), val.vm, val.n_bits)\n",
    "\n",
    "        lt4 = val < intervals[4]\n",
    "        act_out[i][j] = TFHEValue(HE_client.vm.gate_mux(lt4, (val / 4).value, act_out[i][j].value), val.vm, val.n_bits)\n",
    "        act_grad_inv[i][j] = TFHEValue(HE_client.vm.gate_mux(lt4, slopes_inv[5].value, act_grad_inv[i][j].value), val.vm, val.n_bits)\n",
    "\n",
    "        lt5 = val < intervals[5]\n",
    "        act_out[i][j] = TFHEValue(HE_client.vm.gate_mux(lt5, y_min.value, act_out[i][j].value), val.vm, val.n_bits)\n",
    "        act_grad_inv[i][j] = TFHEValue(HE_client.vm.gate_mux(lt5, slopes_inv[6].value, act_grad_inv[i][j].value), val.vm, val.n_bits)\n",
    "        \n",
    "    return act_out, act_grad_inv"
   ]
  },
  {
   "cell_type": "code",
   "execution_count": null,
   "metadata": {},
   "outputs": [],
   "source": [
    "# Encrypted L2 Loss Function\n",
    "def encrypted_L2(y_true, net_out):\n",
    "    loss = np.full((y_true.shape[0], y_true.shape[1]), HE_client.encode(0))\n",
    "    for i in range(len(y_true)):\n",
    "        for j in range(len(y_true[i])):\n",
    "            loss[i][j] = net_out[i].squeeze()[j] - y_true[i][j]\n",
    "    return loss"
   ]
  },
  {
   "cell_type": "code",
   "execution_count": null,
   "metadata": {},
   "outputs": [],
   "source": [
    "# Encrypted FC Layer\n",
    "class EncryptedFCLayer:\n",
    "    def __init__(self, in_dim, out_dim, last_layer = False):\n",
    "        self.in_dim, self.out_dim = in_dim, out_dim\n",
    "        self.last_layer = last_layer\n",
    "        self.weights = np.zeros((in_dim, out_dim)).astype(int)\n",
    "        self.bias = np.zeros((1, out_dim)).astype(int)\n",
    "        self.DFA_weights = np.zeros((1, 1)).astype(int)\n",
    "\n",
    "    def forward(self, fc_in):\n",
    "        self.input = fc_in\n",
    "        dot = (self.input @ self.weights) + self.bias\n",
    "        output, self.act_grad_inv = encrypted_tanh(dot, self.in_dim, self.out_dim)\n",
    "        return output\n",
    "\n",
    "    def backward(self, loss, lr_inv):\n",
    "        d_DFA = self.compute_dDFA(loss, lr_inv)\n",
    "\n",
    "        weights_update = self.input.T @ d_DFA\n",
    "        weights_update = weights_update / lr_inv\n",
    "        weights_update = weights_update.reshape(self.in_dim, self.out_dim)\n",
    "\n",
    "        if type(self.weights.squeeze()[0][0]) is not TFHEValue:\n",
    "            self.weights = HE_client.encode_matrix(self.weights)\n",
    "\n",
    "        self.weights -= weights_update\n",
    "\n",
    "        ones = np.ones((len(d_DFA), 1)).astype(int)\n",
    "        bias_update = d_DFA.T @ ones\n",
    "        bias_update = bias_update.T / lr_inv\n",
    "\n",
    "        if type(self.bias.squeeze()[0]) is not TFHEValue:\n",
    "            self.bias = HE_client.encode_matrix(self.bias)\n",
    "\n",
    "        self.bias -= bias_update\n",
    "\n",
    "    def compute_dDFA(self, loss, lr_inv):\n",
    "        if self.last_layer:\n",
    "            d_DFA = np.divide(loss, self.act_grad_inv)\n",
    "        else:\n",
    "            if self.DFA_weights.shape[0] != loss.shape[1] and self.DFA_weights.shape[1] != self.weights.shape[1]: # 0 rows, 1 cols\n",
    "                print(\"DFA not initialized!\")\n",
    "            dot = loss @ self.DFA_weights\n",
    "            d_DFA = np.divide(dot, self.act_grad_inv)\n",
    "        return d_DFA"
   ]
  },
  {
   "cell_type": "code",
   "execution_count": null,
   "metadata": {},
   "outputs": [],
   "source": [
    "# Encrypted TFHE-NN Network\n",
    "class EncryptedNetwork:\n",
    "    def __init__(self):\n",
    "        self.layers = []\n",
    "    \n",
    "    # Add layer to network\n",
    "    def add(self, layer):\n",
    "        self.layers.append(layer)\n",
    "    \n",
    "    # Serialize the network\n",
    "    def serialize(self):\n",
    "        for l in self.layers:\n",
    "            if hasattr(l, \"weights\"):\n",
    "                l.weights = HE_client.serialize_matrix(l.weights)\n",
    "                l.bias = HE_client.serialize_matrix(l.bias)\n",
    "                l.act_grad_inv = None\n",
    "                l.input = None\n",
    "                if not l.last_layer:\n",
    "                    l.DFA_weights = HE_client.serialize_matrix(l.DFA_weights)\n",
    "    \n",
    "    # Deserialize the network\n",
    "    def deserialize(self):\n",
    "        for l in self.layers:\n",
    "            if hasattr(l, \"weights\"):\n",
    "                l.weights = HE_client.deserialize_matrix(l.weights)\n",
    "                l.bias = HE_client.deserialize_matrix(l.bias)\n",
    "                if not l.last_layer:\n",
    "                    l.DFA_weights = HE_client.deserialize_matrix(l.DFA_weights)\n",
    "    \n",
    "    # Test\n",
    "    def test(self, x_test, y_test):\n",
    "        corr = HE_client.encode(0)\n",
    "        enc_x = HE_client.encrypt_matrix(x_test)\n",
    "        enc_y = HE_client.encrypt_matrix(y_test)\n",
    "\n",
    "        for j in range(len(x_test)):\n",
    "            pred = self.predict(enc_x[j])\n",
    "            corr = TFHEValue(HE_client.vm.gate_mux(pred == enc_y[j][0], (corr + 1).value, corr.value), corr.vm, corr.n_bits)\n",
    "        return corr\n",
    "    \n",
    "    # Predict output\n",
    "    def predict(self, input_data):\n",
    "        output = np.expand_dims(input_data, axis=0)\n",
    "        for layer in self.layers:\n",
    "            output = layer.forward(output)\n",
    "        return encrypted_argmax(output.squeeze())\n",
    "\n",
    "    # Train the network\n",
    "    def fit(self, x_train, y_train, epochs, mini_batch_size, lr_inv):\n",
    "        for i in range(epochs):\n",
    "            for j in range(int(len(x_train)/mini_batch_size)):\n",
    "                idx_start = j * mini_batch_size\n",
    "                idx_end = idx_start + mini_batch_size\n",
    "\n",
    "                batch_in = HE_client.encrypt_matrix(x_train[idx_start:idx_end])\n",
    "                batch_target = HE_client.encrypt_matrix(y_train[idx_start:idx_end])\n",
    "\n",
    "                start_time = time.time()\n",
    "\n",
    "                # Forward propagation\n",
    "                for layer in self.layers:\n",
    "                  batch_in = layer.forward(batch_in)\n",
    "                fwd_out = batch_in\n",
    "\n",
    "                end_time = time.time()\n",
    "\n",
    "                print(\"End forward batch: \" + repr(j))\n",
    "                print(\"Computation time: \")\n",
    "                hours, rem = divmod(end_time-start_time, 3600)\n",
    "                minutes, seconds = divmod(rem, 60)\n",
    "                print(\"{:0>2}:{:0>2}:{:05.2f}\".format(int(hours),int(minutes),seconds))\n",
    "                print(\"\")\n",
    "\n",
    "                # Loss\n",
    "                loss = encrypted_L2(batch_target, fwd_out)\n",
    "               \n",
    "                start_time = time.time()\n",
    "\n",
    "                # Backward propagation\n",
    "                for layer in reversed(self.layers):\n",
    "                    layer.backward(loss, lr_inv)\n",
    "\n",
    "                end_time = time.time()\n",
    "\n",
    "                print(\"End backward batch: \" + repr(j))\n",
    "                print(\"Computation time: \")\n",
    "                hours, rem = divmod(end_time-start_time, 3600)\n",
    "                minutes, seconds = divmod(rem, 60)\n",
    "                print(\"{:0>2}:{:0>2}:{:05.2f}\".format(int(hours),int(minutes),seconds))\n",
    "                print(\"\")\n",
    "\n",
    "            print(\"End epoch: \" + repr(i))\n",
    "            print(\"\")"
   ]
  },
  {
   "attachments": {},
   "cell_type": "markdown",
   "metadata": {},
   "source": [
    "## Experiments"
   ]
  },
  {
   "cell_type": "code",
   "execution_count": null,
   "metadata": {},
   "outputs": [],
   "source": [
    "## UPLOADE DFA WEIGHTS\n",
    "DFA_weights = np.load(\"res/DFA_weights1.npy\")"
   ]
  },
  {
   "attachments": {},
   "cell_type": "markdown",
   "metadata": {},
   "source": [
    "### Cross Validation"
   ]
  },
  {
   "cell_type": "code",
   "execution_count": null,
   "metadata": {},
   "outputs": [],
   "source": [
    "# Load TFHE-NN-1\n",
    "with open(\"res/enc_net1.pkl\", \"rb\") as f:\n",
    "  enc_net1 = pickle.load(f)\n",
    "  enc_corr1 = HE_client.deserialize(pickle.load(f))\n",
    "  enc_net1.deserialize()\n",
    "\n",
    "# Load TFHE-NN-2\n",
    "with open(\"res/enc_net2.pkl\", \"rb\") as f:\n",
    "  enc_net2 = pickle.load(f)\n",
    "  enc_corr2 = HE_client.deserialize(pickle.load(f))\n",
    "  enc_net2.deserialize()\n",
    "\n",
    "# Load TFHE-NN-3\n",
    "with open(\"res/enc_net3.pkl\", \"rb\") as f:\n",
    "  enc_net3 = pickle.load(f)\n",
    "  enc_corr3 = HE_client.deserialize(pickle.load(f))\n",
    "  enc_net3.deserialize()\n",
    "\n",
    "# Load TFHE-NN-4\n",
    "with open(\"res/enc_net4.pkl\", \"rb\") as f:\n",
    "  enc_net4 = pickle.load(f)\n",
    "  enc_corr4 = HE_client.deserialize(pickle.load(f))\n",
    "  enc_net4.deserialize()"
   ]
  },
  {
   "cell_type": "code",
   "execution_count": null,
   "metadata": {},
   "outputs": [],
   "source": [
    "%%time\n",
    "# Compute argmax\n",
    "argmax = encrypted_argmax([enc_corr1, enc_corr2, enc_corr3, enc_corr4])\n",
    "\n",
    "# Prepare control signal of MUX\n",
    "control_signal = [HE_client.encode(0), HE_client.encode(0), HE_client.encode(0), HE_client.encode(0)]\n",
    "for i in range(len(control_signal)):\n",
    "  enc_i = HE_client.encode(i)\n",
    "  control_signal[i] = TFHEValue(HE_client.vm.gate_mux(enc_i == argmax, HE_client.encode(1).value, control_signal[i].value), control_signal[i].vm, control_signal[i].n_bits)"
   ]
  },
  {
   "cell_type": "code",
   "execution_count": null,
   "metadata": {},
   "outputs": [],
   "source": [
    "# Group encrypted weights\n",
    "W1 = [enc_net1.layers[0].weights, enc_net2.layers[0].weights, enc_net3.layers[0].weights, enc_net4.layers[0].weights]\n",
    "B1 = [enc_net1.layers[0].bias, enc_net2.layers[0].bias, enc_net3.layers[0].bias, enc_net4.layers[0].bias]\n",
    "\n",
    "W2 = [enc_net1.layers[1].weights, enc_net2.layers[1].weights, enc_net3.layers[1].weights, enc_net4.layers[1].weights]\n",
    "B2 = [enc_net1.layers[1].bias, enc_net2.layers[1].bias, enc_net3.layers[1].bias, enc_net4.layers[1].bias]"
   ]
  },
  {
   "cell_type": "code",
   "execution_count": null,
   "metadata": {},
   "outputs": [],
   "source": [
    "%%time\n",
    "# Encrypted Cross Validation\n",
    "res_weights1 = np.full(W1[0].shape, HE_client.encode(0))\n",
    "res_bias1 = np.full(B1[0].shape, HE_client.encode(0))\n",
    "res_weights2 = np.full(W2[0].shape, HE_client.encode(0))\n",
    "res_bias2 = np.full(B2[0].shape, HE_client.encode(0))\n",
    "\n",
    "for i in range(len(control_signal)):\n",
    "  res_weights1 = encrypted_mux_matrix(control_signal[i] == HE_client.encode(1), W1[i], res_weights1)\n",
    "  res_bias1 = encrypted_mux_matrix(control_signal[i] == HE_client.encode(1), B1[i], res_bias1)\n",
    "  res_weights2 = encrypted_mux_matrix(control_signal[i] == HE_client.encode(1), W2[i], res_weights2)\n",
    "  res_bias2 = encrypted_mux_matrix(control_signal[i] == HE_client.encode(1), B2[i], res_bias2)"
   ]
  },
  {
   "attachments": {},
   "cell_type": "markdown",
   "metadata": {},
   "source": [
    "### Serialization"
   ]
  },
  {
   "cell_type": "code",
   "execution_count": null,
   "metadata": {},
   "outputs": [],
   "source": [
    "# Save decrypted weights\n",
    "with open(\"res/cross_validated_weights.pkl\", \"wb\") as f:\n",
    "    pickle.dump(HE_client.decrypt_matrix(res_weights1), f)\n",
    "    pickle.dump(HE_client.decrypt_matrix(res_bias1), f)\n",
    "    pickle.dump(HE_client.decrypt_matrix(res_weights2), f)\n",
    "    pickle.dump(HE_client.decrypt_matrix(res_bias2), f)"
   ]
  },
  {
   "cell_type": "code",
   "execution_count": null,
   "metadata": {},
   "outputs": [],
   "source": [
    "# Save serialized net\n",
    "enc_CV_net = EncryptedNetwork()\n",
    "enc_CV_net.add(EncryptedFCLayer(4, 2))\n",
    "enc_CV_net.add(EncryptedFCLayer(2, 3, last_layer=True))\n",
    "\n",
    "enc_CV_net.layers[0].DFA_weights = HE_client.encode_matrix(DFA_weights)\n",
    "\n",
    "enc_CV_net.layers[0].weights = HE_client.encrypt_matrix(res_weights1)\n",
    "enc_CV_net.layers[0].bias = HE_client.encrypt_matrix(res_bias1)\n",
    "enc_CV_net.layers[1].weights = HE_client.encrypt_matrix(res_weights2)\n",
    "enc_CV_net.layers[1].bias = HE_client.encrypt_matrix(res_bias2)\n",
    "\n",
    "enc_CV_net.serialize()\n",
    "\n",
    "with open(\"res/enc_cv_net.pkl\", \"wb\") as f:\n",
    "  pickle.dump(enc_CV_net, f)"
   ]
  }
 ],
 "metadata": {
  "accelerator": "GPU",
  "colab": {
   "authorship_tag": "ABX9TyNDVK1GUNs7ICExTzMIGeYt",
   "collapsed_sections": [],
   "name": "PyCrCNN_PocketNN_Training.ipynb",
   "provenance": []
  },
  "kernelspec": {
   "display_name": "Python 3",
   "language": "python",
   "name": "python3"
  },
  "language_info": {
   "codemirror_mode": {
    "name": "ipython",
    "version": 3
   },
   "file_extension": ".py",
   "mimetype": "text/x-python",
   "name": "python",
   "nbconvert_exporter": "python",
   "pygments_lexer": "ipython3",
   "version": "3.10.6 (main, Nov 14 2022, 16:10:14) [GCC 11.3.0]"
  },
  "vscode": {
   "interpreter": {
    "hash": "e7370f93d1d0cde622a1f8e1c04877d8463912d04d973331ad4851f04de6915a"
   }
  }
 },
 "nbformat": 4,
 "nbformat_minor": 4
}
